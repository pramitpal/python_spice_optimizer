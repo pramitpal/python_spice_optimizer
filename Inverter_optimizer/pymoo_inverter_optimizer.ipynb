{
 "cells": [
  {
   "cell_type": "code",
   "execution_count": null,
   "id": "3d11baa5",
   "metadata": {},
   "outputs": [
    {
     "name": "stdout",
     "output_type": "stream",
     "text": [
      "Defaulting to user installation because normal site-packages is not writeable\n",
      "Collecting pymoo\n",
      "  Downloading pymoo-0.6.0.1-cp310-cp310-manylinux_2_5_x86_64.manylinux1_x86_64.manylinux_2_12_x86_64.manylinux2010_x86_64.whl (2.5 MB)\n",
      "\u001b[2K     \u001b[38;2;114;156;31m━━━━━━━━━━━━━━━━━━━━━━━━━━━━━━━━━━━━━━━━\u001b[0m \u001b[32m2.5/2.5 MB\u001b[0m \u001b[31m4.4 MB/s\u001b[0m eta \u001b[36m0:00:00\u001b[0mm eta \u001b[36m0:00:01\u001b[0m0:01\u001b[0m:01\u001b[0m\n",
      "\u001b[?25hCollecting alive-progress\n",
      "  Downloading alive_progress-3.1.4-py3-none-any.whl (75 kB)\n",
      "\u001b[2K     \u001b[38;2;114;156;31m━━━━━━━━━━━━━━━━━━━━━━━━━━━━━━━━━━━━━━━━\u001b[0m \u001b[32m75.9/75.9 KB\u001b[0m \u001b[31m8.0 MB/s\u001b[0m eta \u001b[36m0:00:00\u001b[0m\n",
      "\u001b[?25hCollecting dill\n",
      "  Downloading dill-0.3.7-py3-none-any.whl (115 kB)\n",
      "\u001b[2K     \u001b[38;2;114;156;31m━━━━━━━━━━━━━━━━━━━━━━━━━━━━━━━━━━━━━━━\u001b[0m \u001b[32m115.3/115.3 KB\u001b[0m \u001b[31m8.7 MB/s\u001b[0m eta \u001b[36m0:00:00\u001b[0m\n",
      "\u001b[?25hCollecting cma==3.2.2\n",
      "  Downloading cma-3.2.2-py2.py3-none-any.whl (249 kB)\n",
      "\u001b[2K     \u001b[38;2;114;156;31m━━━━━━━━━━━━━━━━━━━━━━━━━━━━━━━━━━━━━━\u001b[0m \u001b[32m249.1/249.1 KB\u001b[0m \u001b[31m11.1 MB/s\u001b[0m eta \u001b[36m0:00:00\u001b[0m\n",
      "\u001b[?25hRequirement already satisfied: scipy>=1.1 in /usr/local/lib/python3.10/dist-packages (from pymoo) (1.10.1)\n",
      "Requirement already satisfied: matplotlib>=3 in /usr/local/lib/python3.10/dist-packages (from pymoo) (3.7.1)\n",
      "Requirement already satisfied: Deprecated in /usr/lib/python3/dist-packages (from pymoo) (1.2.13)\n",
      "Collecting autograd>=1.4\n",
      "  Downloading autograd-1.6.2-py3-none-any.whl (49 kB)\n",
      "\u001b[2K     \u001b[38;2;114;156;31m━━━━━━━━━━━━━━━━━━━━━━━━━━━━━━━━━━━━━━━━\u001b[0m \u001b[32m49.3/49.3 KB\u001b[0m \u001b[31m5.5 MB/s\u001b[0m eta \u001b[36m0:00:00\u001b[0m\n",
      "\u001b[?25hRequirement already satisfied: numpy>=1.15 in /usr/local/lib/python3.10/dist-packages (from pymoo) (1.24.3)\n",
      "Collecting future>=0.15.2\n",
      "  Downloading future-0.18.3.tar.gz (840 kB)\n",
      "\u001b[2K     \u001b[38;2;114;156;31m━━━━━━━━━━━━━━━━━━━━━━━━━━━━━━━━━━━━━━\u001b[0m \u001b[32m840.9/840.9 KB\u001b[0m \u001b[31m10.3 MB/s\u001b[0m eta \u001b[36m0:00:00\u001b[0m MB/s\u001b[0m eta \u001b[36m0:00:01\u001b[0m:01\u001b[0m\n",
      "\u001b[?25h  Preparing metadata (setup.py) ... \u001b[?25ldone\n",
      "\u001b[?25hRequirement already satisfied: cycler>=0.10 in /usr/local/lib/python3.10/dist-packages (from matplotlib>=3->pymoo) (0.11.0)\n",
      "Requirement already satisfied: fonttools>=4.22.0 in /usr/local/lib/python3.10/dist-packages (from matplotlib>=3->pymoo) (4.39.4)\n",
      "Requirement already satisfied: contourpy>=1.0.1 in /usr/local/lib/python3.10/dist-packages (from matplotlib>=3->pymoo) (1.0.7)\n",
      "Requirement already satisfied: pyparsing>=2.3.1 in /usr/lib/python3/dist-packages (from matplotlib>=3->pymoo) (2.4.7)\n",
      "Requirement already satisfied: kiwisolver>=1.0.1 in /usr/local/lib/python3.10/dist-packages (from matplotlib>=3->pymoo) (1.4.4)\n",
      "Requirement already satisfied: packaging>=20.0 in /usr/local/lib/python3.10/dist-packages (from matplotlib>=3->pymoo) (23.1)\n",
      "Requirement already satisfied: pillow>=6.2.0 in /usr/local/lib/python3.10/dist-packages (from matplotlib>=3->pymoo) (9.5.0)\n",
      "Requirement already satisfied: python-dateutil>=2.7 in /usr/local/lib/python3.10/dist-packages (from matplotlib>=3->pymoo) (2.8.2)\n",
      "Collecting grapheme==0.6.0\n",
      "  Downloading grapheme-0.6.0.tar.gz (207 kB)\n",
      "\u001b[2K     \u001b[38;2;114;156;31m━━━━━━━━━━━━━━━━━━━━━━━━━━━━━━━━━━━━━━\u001b[0m \u001b[32m207.3/207.3 KB\u001b[0m \u001b[31m11.5 MB/s\u001b[0m eta \u001b[36m0:00:00\u001b[0m\n",
      "\u001b[?25h  Preparing metadata (setup.py) ... \u001b[?25ldone\n",
      "\u001b[?25hCollecting about-time==4.2.1\n",
      "  Downloading about_time-4.2.1-py3-none-any.whl (13 kB)\n",
      "Requirement already satisfied: six>=1.5 in /usr/lib/python3/dist-packages (from python-dateutil>=2.7->matplotlib>=3->pymoo) (1.16.0)\n",
      "Building wheels for collected packages: grapheme, future\n",
      "  Building wheel for grapheme (setup.py) ... \u001b[?25ldone\n",
      "\u001b[?25h  Created wheel for grapheme: filename=grapheme-0.6.0-py3-none-any.whl size=210079 sha256=78124372ba463c616964fe83f16db6b443388b1e7af3ca1936cc4f9e535da14c\n",
      "  Stored in directory: /headless/.cache/pip/wheels/01/e1/49/37e6bde9886439057450c494a79b0bef8bbe897a54aebfc757\n",
      "  Building wheel for future (setup.py) ... \u001b[?25ldone\n",
      "\u001b[?25h  Created wheel for future: filename=future-0.18.3-py3-none-any.whl size=492022 sha256=939f5cb26f9312bee14a36e280658d3fd2e4ac723f5e7e91f8179876527fa5b5\n",
      "  Stored in directory: /headless/.cache/pip/wheels/5e/a9/47/f118e66afd12240e4662752cc22cefae5d97275623aa8ef57d\n",
      "Successfully built grapheme future\n",
      "Installing collected packages: grapheme, future, dill, cma, about-time, autograd, alive-progress, pymoo\n",
      "\u001b[33m  WARNING: The scripts futurize and pasteurize are installed in '/headless/.local/bin' which is not on PATH.\n",
      "  Consider adding this directory to PATH or, if you prefer to suppress this warning, use --no-warn-script-location.\u001b[0m\u001b[33m\n",
      "\u001b[0mSuccessfully installed about-time-4.2.1 alive-progress-3.1.4 autograd-1.6.2 cma-3.2.2 dill-0.3.7 future-0.18.3 grapheme-0.6.0 pymoo-0.6.0.1\n"
     ]
    },
    {
     "data": {
      "text/html": [
       "<script>Jupyter.notebook.kernel.restart()</script>"
      ]
     },
     "metadata": {},
     "output_type": "display_data"
    }
   ],
   "source": [
    "import sys\n",
    "!{sys.executable} -m pip install pymoo  # For ipopt solver\n",
    "\n",
    "# Install a pip package in the current Jupyter kernel\n",
    "\n",
    "from IPython.display import display_html\n",
    "def restartkernel() :\n",
    "    display_html(\"<script>Jupyter.notebook.kernel.restart()</script>\",raw=True)\n",
    "\n",
    "restartkernel()"
   ]
  },
  {
   "cell_type": "code",
   "execution_count": 1,
   "id": "4a60e5be",
   "metadata": {},
   "outputs": [],
   "source": [
    "import os\n",
    "from spyci import spyci\n",
    "import matplotlib.pyplot as plt\n",
    "%matplotlib inline"
   ]
  },
  {
   "cell_type": "markdown",
   "id": "fdde92da",
   "metadata": {},
   "source": [
    "# Write a file 4th_order_rc_test.spice"
   ]
  },
  {
   "cell_type": "code",
   "execution_count": 67,
   "id": "52ae0dad",
   "metadata": {},
   "outputs": [
    {
     "name": "stdout",
     "output_type": "stream",
     "text": [
      "Overwriting inv.spice\n"
     ]
    }
   ],
   "source": [
    "%%writefile inv.spice\n",
    "********Digital inverter**********\n",
    ".PARAM WP = 1.5e-6\n",
    ".PARAM LMIN = 0.39e-6\n",
    ".PARAM VD = 3.3\n",
    "**--**--**--**--**--**--**--**--**--**\n",
    "\n",
    "*** *** SUPPLY VOLTAGES *** ***\n",
    "VDD VDD 0 {VD}\n",
    "VSS VSS 0 0\n",
    "VIN IN  0 1\n",
    "\n",
    "*** *** CIRCUIT *** ***\n",
    "MP OUT IN VDD VDD PM W={WP}    L={LMIN} pd={2*WP}   ps={2*WP}\n",
    "MN OUT IN VSS VSS NM W={WP/3}  L={LMIN} pd={2/3*WP} ps={2/3*WP}\n",
    "CL OUT VSS 12p\n",
    "\n",
    "*** *** ANALYSIS *** ***\n",
    "\n",
    ".options savecurrents\n",
    ".include b3.typ\n",
    "\n",
    ".control\n",
    "set color0 =white\n",
    "set filetype = ascii\n",
    "dc VIN 0 3.3 0.01\n",
    "*plot OUT @mn[id]*20000\n",
    "\n",
    "meas dc switch_point find out WHEN v-sweep=1.65 CROSS=LAST\n",
    "meas dc i_max    MAX    @mn[id] \n",
    "meas dc i_max_at MAX_AT @mn[id]\n",
    "\n",
    "print switch_point i_max i_max_at\n",
    "\n",
    "write inv.raw OUT @mn[id] switch_point i_max i_max_at\n",
    ".endc\n",
    "\n",
    ".END"
   ]
  },
  {
   "cell_type": "code",
   "execution_count": 68,
   "id": "7dd671db",
   "metadata": {},
   "outputs": [
    {
     "name": "stdout",
     "output_type": "stream",
     "text": [
      "Variables:\n",
      "\n",
      "  idx  name          type\n",
      "-----  ------------  -------------\n",
      "    1  v(out)        voltage\n",
      "    2  i(@mn[id])    current\n",
      "    3  switch_point  notype dims=1\n",
      "    4  i_max         notype dims=1\n",
      "    5  i_max_at      notype dims=1\n"
     ]
    }
   ],
   "source": [
    "filename=\"inv.raw\"\n",
    "data = spyci.load_raw(filename)  # see 'Data structure' section below\n",
    "spyci.list_vars(filename)"
   ]
  },
  {
   "cell_type": "code",
   "execution_count": 5,
   "id": "5540fa8e",
   "metadata": {},
   "outputs": [],
   "source": [
    "def add_param_lines(file_path, param_names_and_values):\n",
    "    \n",
    "  if not os.path.exists(file_path):\n",
    "    raise FileNotFoundError(\"File does not exist: {}\".format(file_path))\n",
    "\n",
    "  with open(file_path, \"r\") as f:\n",
    "    lines = f.readlines()\n",
    "\n",
    "  first_line = lines[0]\n",
    "\n",
    "  param_lines = []\n",
    "  for param_name, param_value in param_names_and_values:\n",
    "    param_lines.append(\".PARAM {} = {}\\n\".format(param_name, param_value))\n",
    "\n",
    "  # Find the index of the line with the text `\"**--**--**--**--**--**--**--**--**--**\\n`\n",
    "  recognizer=\"**--**--**--**--**--**--**--**--**--**\\n\"\n",
    "  try:\n",
    "      index = lines.index(recognizer)\n",
    "      new_lines = [first_line] + param_lines + [recognizer] + lines[index + 1:]\n",
    "  except ValueError:\n",
    "      new_lines = [first_line] + param_lines + [recognizer] + lines[1:]\n",
    "\n",
    "  with open(file_path, \"w\") as f:\n",
    "    f.writelines(new_lines)\n"
   ]
  },
  {
   "cell_type": "code",
   "execution_count": 6,
   "id": "f102a9a3",
   "metadata": {},
   "outputs": [],
   "source": [
    "def get_values(filename, pvars=None):\n",
    "    \"\"\"\n",
    "    Load the values from a SPICE raw file and return a list of arrays.\n",
    "\n",
    "    Args:\n",
    "        filename (str): The path to the SPICE raw file.\n",
    "        pvars (list): A list of string variables to load. If None, all variables are loaded.\n",
    "\n",
    "    Returns:\n",
    "        list: A list of arrays, one for each variable in pvars.\n",
    "    \"\"\"\n",
    "\n",
    "    d = spyci.load_raw(filename)\n",
    "    xx = []\n",
    "    for var in pvars:\n",
    "        xx.append(d['values'][var].real)\n",
    "    return xx"
   ]
  },
  {
   "cell_type": "markdown",
   "id": "61ca59da",
   "metadata": {},
   "source": [
    "# Test the add_param_function"
   ]
  },
  {
   "cell_type": "code",
   "execution_count": 9,
   "id": "3e4eea8e",
   "metadata": {},
   "outputs": [],
   "source": [
    "filename = \"inv.spice\"\n",
    "param_names_and_values = [\n",
    "    \n",
    "    [\"WP\",   1.8e-6], \n",
    "    [\"LMIN\", 0.39e-6],\n",
    "    [\"VD\",   3.3]\n",
    "    \n",
    "    ]\n",
    "add_param_lines(filename, param_names_and_values)"
   ]
  },
  {
   "cell_type": "markdown",
   "id": "5ad35539",
   "metadata": {},
   "source": [
    "# View the contents"
   ]
  },
  {
   "cell_type": "code",
   "execution_count": 56,
   "id": "a51a39c3",
   "metadata": {},
   "outputs": [
    {
     "name": "stdout",
     "output_type": "stream",
     "text": [
      "********Digital inverter**********\n",
      ".PARAM WP = 1.5e-6\n",
      ".PARAM LMIN = 0.39e-6\n",
      ".PARAM VD = 3.3\n",
      "**--**--**--**--**--**--**--**--**--**\n",
      "\n",
      "*** *** SUPPLY VOLTAGES *** ***\n",
      "VDD VDD 0 {VD}\n",
      "VSS VSS 0 0\n",
      "VIN IN  0 1\n",
      "\n",
      "*** *** CIRCUIT *** ***\n",
      "MP OUT IN VDD VDD PM W={WP}    L={LMIN} pd={2*WP}   ps={2*WP}\n",
      "MN OUT IN VSS VSS NM W={WP/3}  L={LMIN} pd={2/3*WP} ps={2/3*WP}\n",
      "CL OUT VSS 12p\n",
      "\n",
      "*** *** ANALYSIS *** ***\n",
      "\n",
      ".options savecurrents\n",
      ".include b3.typ\n",
      "\n",
      ".control\n",
      "set color0 =white\n",
      "set filetype = ascii\n",
      "dc VIN 0 3.3 0.01\n",
      "*plot OUT @mn[id]*20000\n",
      "\n",
      "meas dc switch_point find out WHEN v-sweep=1.65 CROSS=LAST\n",
      "meas dc i_max    MAX    @mn[id] \n",
      "meas dc i_max_at MAX_AT @mn[id]\n",
      "\n",
      "print switch_point i_max i_max_at\n",
      "\n",
      "write inv.raw OUT @mn[id] switch_point i_max i_max_at v-sweep\n",
      ".endc\n",
      "\n",
      ".END\n"
     ]
    }
   ],
   "source": [
    "r=os.system(\"cat inv.spice\")"
   ]
  },
  {
   "cell_type": "markdown",
   "id": "af06862d",
   "metadata": {},
   "source": [
    "# Test the get_values function"
   ]
  },
  {
   "cell_type": "code",
   "execution_count": 11,
   "id": "b7f1623c",
   "metadata": {},
   "outputs": [
    {
     "data": {
      "text/plain": [
       "[array([1.195683, 0.      , 0.      , 0.      , 0.      , 0.      ,\n",
       "        0.      , 0.      , 0.      , 0.      , 0.      , 0.      ,\n",
       "        0.      , 0.      , 0.      , 0.      , 0.      , 0.      ,\n",
       "        0.      , 0.      , 0.      , 0.      , 0.      , 0.      ,\n",
       "        0.      , 0.      , 0.      , 0.      , 0.      , 0.      ,\n",
       "        0.      , 0.      , 0.      , 0.      , 0.      , 0.      ,\n",
       "        0.      , 0.      , 0.      , 0.      , 0.      , 0.      ,\n",
       "        0.      , 0.      , 0.      , 0.      , 0.      , 0.      ,\n",
       "        0.      , 0.      , 0.      , 0.      , 0.      , 0.      ,\n",
       "        0.      , 0.      , 0.      , 0.      , 0.      , 0.      ,\n",
       "        0.      , 0.      , 0.      , 0.      , 0.      , 0.      ,\n",
       "        0.      , 0.      , 0.      , 0.      , 0.      , 0.      ,\n",
       "        0.      , 0.      , 0.      , 0.      , 0.      , 0.      ,\n",
       "        0.      , 0.      , 0.      , 0.      , 0.      , 0.      ,\n",
       "        0.      , 0.      , 0.      , 0.      , 0.      , 0.      ,\n",
       "        0.      , 0.      , 0.      , 0.      , 0.      , 0.      ,\n",
       "        0.      , 0.      , 0.      , 0.      , 0.      , 0.      ,\n",
       "        0.      , 0.      , 0.      , 0.      , 0.      , 0.      ,\n",
       "        0.      , 0.      , 0.      , 0.      , 0.      , 0.      ,\n",
       "        0.      , 0.      , 0.      , 0.      , 0.      , 0.      ,\n",
       "        0.      , 0.      , 0.      , 0.      , 0.      , 0.      ,\n",
       "        0.      , 0.      , 0.      , 0.      , 0.      , 0.      ,\n",
       "        0.      , 0.      , 0.      , 0.      , 0.      , 0.      ,\n",
       "        0.      , 0.      , 0.      , 0.      , 0.      , 0.      ,\n",
       "        0.      , 0.      , 0.      , 0.      , 0.      , 0.      ,\n",
       "        0.      , 0.      , 0.      , 0.      , 0.      , 0.      ,\n",
       "        0.      , 0.      , 0.      , 0.      , 0.      , 0.      ,\n",
       "        0.      , 0.      , 0.      , 0.      , 0.      , 0.      ,\n",
       "        0.      , 0.      , 0.      , 0.      , 0.      , 0.      ,\n",
       "        0.      , 0.      , 0.      , 0.      , 0.      , 0.      ,\n",
       "        0.      , 0.      , 0.      , 0.      , 0.      , 0.      ,\n",
       "        0.      , 0.      , 0.      , 0.      , 0.      , 0.      ,\n",
       "        0.      , 0.      , 0.      , 0.      , 0.      , 0.      ,\n",
       "        0.      , 0.      , 0.      , 0.      , 0.      , 0.      ,\n",
       "        0.      , 0.      , 0.      , 0.      , 0.      , 0.      ,\n",
       "        0.      , 0.      , 0.      , 0.      , 0.      , 0.      ,\n",
       "        0.      , 0.      , 0.      , 0.      , 0.      , 0.      ,\n",
       "        0.      , 0.      , 0.      , 0.      , 0.      , 0.      ,\n",
       "        0.      , 0.      , 0.      , 0.      , 0.      , 0.      ,\n",
       "        0.      , 0.      , 0.      , 0.      , 0.      , 0.      ,\n",
       "        0.      , 0.      , 0.      , 0.      , 0.      , 0.      ,\n",
       "        0.      , 0.      , 0.      , 0.      , 0.      , 0.      ,\n",
       "        0.      , 0.      , 0.      , 0.      , 0.      , 0.      ,\n",
       "        0.      , 0.      , 0.      , 0.      , 0.      , 0.      ,\n",
       "        0.      , 0.      , 0.      , 0.      , 0.      , 0.      ,\n",
       "        0.      , 0.      , 0.      , 0.      , 0.      , 0.      ,\n",
       "        0.      , 0.      , 0.      , 0.      , 0.      , 0.      ,\n",
       "        0.      , 0.      , 0.      , 0.      , 0.      , 0.      ,\n",
       "        0.      , 0.      , 0.      , 0.      , 0.      , 0.      ,\n",
       "        0.      , 0.      , 0.      , 0.      , 0.      , 0.      ,\n",
       "        0.      , 0.      , 0.      , 0.      , 0.      , 0.      ,\n",
       "        0.      , 0.      , 0.      , 0.      , 0.      , 0.      ,\n",
       "        0.      , 0.      , 0.      , 0.      , 0.      , 0.      ,\n",
       "        0.      , 0.      , 0.      , 0.      , 0.      , 0.      ,\n",
       "        0.      , 0.      , 0.      , 0.      , 0.      , 0.      ,\n",
       "        0.      ])]"
      ]
     },
     "execution_count": 11,
     "metadata": {},
     "output_type": "execute_result"
    }
   ],
   "source": [
    "get_values(\"inv.raw\",['switch_point'])\n"
   ]
  },
  {
   "cell_type": "code",
   "execution_count": 81,
   "id": "c64f28bb",
   "metadata": {},
   "outputs": [
    {
     "name": "stdout",
     "output_type": "stream",
     "text": [
      "1.556767\n"
     ]
    }
   ],
   "source": [
    "import os\n",
    "def run_spice_again(x,filename):\n",
    "    param_names_and_values = [\n",
    "    \n",
    "        [\"WP\",   x[0]], \n",
    "        [\"LMIN\", x[1]], \n",
    "        [\"VD\",  3.3]\n",
    "        ]\n",
    "    add_param_lines(filename, param_names_and_values)\n",
    "    \n",
    "    os.system(\"ngspice -b inv.spice -o .log > .log\")\n",
    "#     os.system(\"rm -f .temp\")\n",
    "    filename=\"inv.raw\"\n",
    "    data = spyci.load_raw(filename)  # see 'Data structure' section below\n",
    "    switch_point=get_values(filename,['switch_point'])[0][0]\n",
    "#     print(switch_point)\n",
    "    return switch_point\n",
    "\n",
    "print(run_spice_again([1.5e-6,0.35e-6],\"inv.spice\"))"
   ]
  },
  {
   "cell_type": "code",
   "execution_count": 82,
   "id": "e1684b5e",
   "metadata": {},
   "outputs": [],
   "source": [
    "import numpy as np\n",
    "from pymoo.problems.functional import FunctionalProblem\n",
    "from pymoo.algorithms.moo.nsga2 import NSGA2\n",
    "from pymoo.operators.crossover.sbx import SBX\n",
    "from pymoo.operators.mutation.pm import PM\n",
    "from pymoo.operators.sampling.rnd import FloatRandomSampling\n",
    "from pymoo.termination import get_termination\n",
    "from pymoo.optimize import minimize\n",
    "\n",
    "def find_values(n_var,x,range_l,range_u,Target_F_cut,objs,max_generations,verbose=True):\n",
    "\n",
    "  # now put everything together to a problem object\n",
    "  problem = FunctionalProblem(n_var,\n",
    "                              objs,\n",
    "                              # constr_ieq=constr_ieq,\n",
    "                              xl=np.array(range_l),\n",
    "                              xu=np.array(range_u)\n",
    "                              )\n",
    "  # F= problem.evaluate([x])\n",
    "  # print(f\"F: {F}\\n\")\n",
    "  ############\n",
    "  algorithm = NSGA2(\n",
    "    pop_size=45,\n",
    "    n_offsprings=10,\n",
    "    sampling=FloatRandomSampling(),\n",
    "    crossover=SBX(prob=0.9, eta=15),\n",
    "    mutation=PM(eta=15),\n",
    "    eliminate_duplicates=True\n",
    "  )\n",
    "  ##############\n",
    "  termination = get_termination(\"n_gen\", max_generations)\n",
    "  ##############\n",
    "  res = minimize(problem,\n",
    "               algorithm,\n",
    "               termination,\n",
    "               seed=9,\n",
    "               save_history=True,\n",
    "               verbose=verbose)\n",
    "  \n",
    "  return res\n"
   ]
  },
  {
   "cell_type": "code",
   "execution_count": 100,
   "id": "d210661a",
   "metadata": {},
   "outputs": [
    {
     "name": "stdout",
     "output_type": "stream",
     "text": [
      "==========================================================\n",
      "n_gen  |  n_eval  | n_nds  |      eps      |   indicator  \n",
      "==========================================================\n",
      "     1 |       45 |      1 |             - |             -\n",
      "     2 |       55 |      1 |  0.0000760372 |             f\n",
      "     3 |       65 |      1 |  0.0000760372 |             f\n",
      "     4 |       75 |      1 |  0.0000760372 |             f\n",
      "     5 |       85 |      1 |  0.0000760372 |             f\n",
      "     6 |       95 |      1 |  0.0000760372 |             f\n",
      "     7 |      105 |      1 |  0.0000760372 |             f\n",
      "     8 |      115 |      1 |  0.0000760372 |             f\n",
      "     9 |      125 |      1 |  0.0000768883 |             f\n",
      "    10 |      135 |      1 |  0.0000768883 |             f\n",
      "    11 |      145 |      1 |  0.0000768883 |             f\n",
      "    12 |      155 |      1 |  0.0000768883 |             f\n",
      "    13 |      165 |      1 |  0.0000814993 |             f\n",
      "    14 |      175 |      1 |  0.0000814993 |             f\n",
      "    15 |      185 |      1 |  0.0000814993 |             f\n",
      "    16 |      195 |      1 |  0.0000814993 |             f\n",
      "    17 |      205 |      1 |  0.0000814993 |             f\n",
      "    18 |      215 |      1 |  0.0000814993 |             f\n",
      "    19 |      225 |      1 |  0.0000814993 |             f\n",
      "    20 |      235 |      1 |  0.0000814993 |             f\n"
     ]
    },
    {
     "data": {
      "text/plain": [
       "array([2.49614588e-06, 4.18487970e-07])"
      ]
     },
     "execution_count": 100,
     "metadata": {},
     "output_type": "execute_result"
    }
   ],
   "source": [
    "#########################\n",
    "range_l=[0.5e-6, 0.15e-6]\n",
    "range_u=[3e-6, 0.6e-6]\n",
    "target_f=1.75\n",
    "current_x=[1.8e-6,0.35e-6]## correct for 1000Hz\n",
    "max_generations=20\n",
    "verbose=True\n",
    "\n",
    "# print(run_spice_again(current_x,\"inv.spice\"))\n",
    "#########################COST_FUNCTION##########################################\n",
    "cost_function = [\n",
    "    lambda x: (run_spice_again(x,\"inv.spice\")-target_f)**2 ########  x[0]=R,x[1]=C\n",
    "]\n",
    "################################################################################\n",
    "\n",
    "r=find_values(2,current_x,range_l,range_u, target_f,cost_function,max_generations,verbose=verbose)\n",
    "\n",
    "result=r.X.T\n",
    "result\n"
   ]
  },
  {
   "cell_type": "code",
   "execution_count": 102,
   "id": "17c82054",
   "metadata": {
    "scrolled": true
   },
   "outputs": [
    {
     "name": "stdout",
     "output_type": "stream",
     "text": [
      "========================================\n",
      "Target switch_point:   1.750 V\n",
      "Obtained switch_point(Optimized value ) is:   1.750 V\n",
      "Percentage Error is: -0.0117 %\n",
      "Width WP(Optimized value ) is:   2.496 um\n",
      "Length LMIN(Optimized value ) is:   0.418 um\n",
      "========================================\n"
     ]
    }
   ],
   "source": [
    "WP_opt=result[0]  #1kOhm\n",
    "LMIN_opt=result[1]  # 1µF\n",
    "\n",
    "obtained_point=run_spice_again([WP_opt,LMIN_opt],\"inv.spice\")\n",
    "print(\"========================================\")\n",
    "print(\"Target switch_point: {:7.3f} V\".format(target_f))\n",
    "print(\"Obtained switch_point(Optimized value ) is: {:7.3f} V\".format(obtained_point))\n",
    "print(\"Percentage Error is: {:7.4f} %\".format(((obtained_point-target_f)*100/target_f)))\n",
    "\n",
    "print(\"Width WP(Optimized value ) is: {:7.3f} um\".format(WP_opt*1e6))\n",
    "print(\"Length LMIN(Optimized value ) is: {:7.3f} um\".format(LMIN_opt*1e6))\n",
    "print(\"========================================\")"
   ]
  },
  {
   "cell_type": "code",
   "execution_count": 103,
   "id": "1c7933b0",
   "metadata": {},
   "outputs": [
    {
     "data": {
      "image/png": "[encoded data removed]",
      "text/plain": [
       "<Figure size 640x480 with 1 Axes>"
      ]
     },
     "metadata": {},
     "output_type": "display_data"
    }
   ],
   "source": [
    "values=get_values(\"inv.raw\",['i(@mn[id])','v(out)','switch_point','i_max','i_max_at'])\n",
    "plt.plot(values[0]*20000)\n",
    "plt.plot(values[1])\n",
    "plt.show()"
   ]
  },
  {
   "cell_type": "code",
   "execution_count": null,
   "id": "d4b93360",
   "metadata": {},
   "outputs": [],
   "source": []
  }
 ],
 "metadata": {
  "kernelspec": {
   "display_name": "Python 3 (ipykernel)",
   "language": "python",
   "name": "python3"
  },
  "language_info": {
   "codemirror_mode": {
    "name": "ipython",
    "version": 3
   },
   "file_extension": ".py",
   "mimetype": "text/x-python",
   "name": "python",
   "nbconvert_exporter": "python",
   "pygments_lexer": "ipython3",
   "version": "3.10.6"
  }
 },
 "nbformat": 4,
 "nbformat_minor": 5
}
