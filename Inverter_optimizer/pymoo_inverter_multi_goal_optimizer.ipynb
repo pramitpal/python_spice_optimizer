{
 "cells": [
  {
   "cell_type": "code",
   "execution_count": null,
   "id": "3d11baa5",
   "metadata": {},
   "outputs": [],
   "source": [
    "import sys\n",
    "!{sys.executable} -m pip install pymoo  # For ipopt solver\n",
    "\n",
    "# Install a pip package in the current Jupyter kernel\n",
    "\n",
    "from IPython.display import display_html\n",
    "def restartkernel() :\n",
    "    display_html(\"<script>Jupyter.notebook.kernel.restart()</script>\",raw=True)\n",
    "\n",
    "restartkernel()"
   ]
  },
  {
   "cell_type": "code",
   "execution_count": 1,
   "id": "4a60e5be",
   "metadata": {},
   "outputs": [],
   "source": [
    "import os\n",
    "from spyci import spyci\n",
    "import matplotlib.pyplot as plt\n",
    "%matplotlib inline"
   ]
  },
  {
   "cell_type": "markdown",
   "id": "fdde92da",
   "metadata": {},
   "source": [
    "# Write a file 4th_order_rc_test.spice"
   ]
  },
  {
   "cell_type": "code",
   "execution_count": 2,
   "id": "52ae0dad",
   "metadata": {},
   "outputs": [
    {
     "name": "stdout",
     "output_type": "stream",
     "text": [
      "Overwriting inv.spice\n"
     ]
    }
   ],
   "source": [
    "%%writefile inv.spice\n",
    "********Digital inverter**********\n",
    ".PARAM WP = 1.5e-6\n",
    ".PARAM LMIN = 0.39e-6\n",
    ".PARAM VD = 3.3\n",
    "**--**--**--**--**--**--**--**--**--**\n",
    "\n",
    "*** *** SUPPLY VOLTAGES *** ***\n",
    "VDD VDD 0 {VD}\n",
    "VSS VSS 0 0\n",
    "VIN IN  0 1\n",
    "\n",
    "*** *** CIRCUIT *** ***\n",
    "MP OUT IN VDD VDD PM W={WP}    L={LMIN} pd={2*WP}   ps={2*WP}\n",
    "MN OUT IN VSS VSS NM W={WP/3}  L={LMIN} pd={2/3*WP} ps={2/3*WP}\n",
    "CL OUT VSS 12p\n",
    "\n",
    "*** *** ANALYSIS *** ***\n",
    "\n",
    ".options savecurrents\n",
    ".include b3.typ\n",
    "\n",
    ".control\n",
    "set color0 =white\n",
    "set filetype = ascii\n",
    "dc VIN 0 3.3 0.01\n",
    "*plot OUT @mn[id]*20000\n",
    "\n",
    "meas dc switch_point find out WHEN v-sweep=1.65 CROSS=LAST\n",
    "meas dc i_max    MAX    @mn[id] \n",
    "meas dc i_max_at MAX_AT @mn[id]\n",
    "\n",
    "print switch_point i_max i_max_at\n",
    "\n",
    "write inv.raw OUT @mn[id] switch_point i_max i_max_at\n",
    ".endc\n",
    "\n",
    ".END"
   ]
  },
  {
   "cell_type": "code",
   "execution_count": 3,
   "id": "7dd671db",
   "metadata": {},
   "outputs": [
    {
     "name": "stdout",
     "output_type": "stream",
     "text": [
      "Variables:\n",
      "\n",
      "  idx  name          type\n",
      "-----  ------------  -------------\n",
      "    1  v(out)        voltage\n",
      "    2  i(@mn[id])    current\n",
      "    3  switch_point  notype dims=1\n",
      "    4  i_max         notype dims=1\n",
      "    5  i_max_at      notype dims=1\n"
     ]
    }
   ],
   "source": [
    "filename=\"inv.raw\"\n",
    "data = spyci.load_raw(filename)  # see 'Data structure' section below\n",
    "spyci.list_vars(filename)"
   ]
  },
  {
   "cell_type": "code",
   "execution_count": 4,
   "id": "5540fa8e",
   "metadata": {},
   "outputs": [],
   "source": [
    "def add_param_lines(file_path, param_names_and_values):\n",
    "    \n",
    "  if not os.path.exists(file_path):\n",
    "    raise FileNotFoundError(\"File does not exist: {}\".format(file_path))\n",
    "\n",
    "  with open(file_path, \"r\") as f:\n",
    "    lines = f.readlines()\n",
    "\n",
    "  first_line = lines[0]\n",
    "\n",
    "  param_lines = []\n",
    "  for param_name, param_value in param_names_and_values:\n",
    "    param_lines.append(\".PARAM {} = {}\\n\".format(param_name, param_value))\n",
    "\n",
    "  # Find the index of the line with the text `\"**--**--**--**--**--**--**--**--**--**\\n`\n",
    "  recognizer=\"**--**--**--**--**--**--**--**--**--**\\n\"\n",
    "  try:\n",
    "      index = lines.index(recognizer)\n",
    "      new_lines = [first_line] + param_lines + [recognizer] + lines[index + 1:]\n",
    "  except ValueError:\n",
    "      new_lines = [first_line] + param_lines + [recognizer] + lines[1:]\n",
    "\n",
    "  with open(file_path, \"w\") as f:\n",
    "    f.writelines(new_lines)\n"
   ]
  },
  {
   "cell_type": "code",
   "execution_count": 5,
   "id": "f102a9a3",
   "metadata": {},
   "outputs": [],
   "source": [
    "def get_values(filename, pvars=None):\n",
    "    \"\"\"\n",
    "    Load the values from a SPICE raw file and return a list of arrays.\n",
    "\n",
    "    Args:\n",
    "        filename (str): The path to the SPICE raw file.\n",
    "        pvars (list): A list of string variables to load. If None, all variables are loaded.\n",
    "\n",
    "    Returns:\n",
    "        list: A list of arrays, one for each variable in pvars.\n",
    "    \"\"\"\n",
    "\n",
    "    d = spyci.load_raw(filename)\n",
    "    xx = []\n",
    "    for var in pvars:\n",
    "        xx.append(d['values'][var].real)\n",
    "    return xx"
   ]
  },
  {
   "cell_type": "markdown",
   "id": "61ca59da",
   "metadata": {},
   "source": [
    "# Test the add_param_function"
   ]
  },
  {
   "cell_type": "code",
   "execution_count": 6,
   "id": "3e4eea8e",
   "metadata": {},
   "outputs": [],
   "source": [
    "filename = \"inv.spice\"\n",
    "param_names_and_values = [\n",
    "    \n",
    "    [\"WP\",   1.8e-6], \n",
    "    [\"LMIN\", 0.39e-6],\n",
    "    [\"VD\",   3.3]\n",
    "    \n",
    "    ]\n",
    "add_param_lines(filename, param_names_and_values)"
   ]
  },
  {
   "cell_type": "markdown",
   "id": "5ad35539",
   "metadata": {},
   "source": [
    "# View the contents"
   ]
  },
  {
   "cell_type": "code",
   "execution_count": null,
   "id": "a51a39c3",
   "metadata": {},
   "outputs": [],
   "source": [
    "r=os.system(\"cat inv.spice\")"
   ]
  },
  {
   "cell_type": "markdown",
   "id": "af06862d",
   "metadata": {},
   "source": [
    "# Test the get_values function"
   ]
  },
  {
   "cell_type": "code",
   "execution_count": 7,
   "id": "b7f1623c",
   "metadata": {},
   "outputs": [
    {
     "data": {
      "text/plain": [
       "[array([0.5718124, 0.       , 0.       , 0.       , 0.       , 0.       ,\n",
       "        0.       , 0.       , 0.       , 0.       , 0.       , 0.       ,\n",
       "        0.       , 0.       , 0.       , 0.       , 0.       , 0.       ,\n",
       "        0.       , 0.       , 0.       , 0.       , 0.       , 0.       ,\n",
       "        0.       , 0.       , 0.       , 0.       , 0.       , 0.       ,\n",
       "        0.       , 0.       , 0.       , 0.       , 0.       , 0.       ,\n",
       "        0.       , 0.       , 0.       , 0.       , 0.       , 0.       ,\n",
       "        0.       , 0.       , 0.       , 0.       , 0.       , 0.       ,\n",
       "        0.       , 0.       , 0.       , 0.       , 0.       , 0.       ,\n",
       "        0.       , 0.       , 0.       , 0.       , 0.       , 0.       ,\n",
       "        0.       , 0.       , 0.       , 0.       , 0.       , 0.       ,\n",
       "        0.       , 0.       , 0.       , 0.       , 0.       , 0.       ,\n",
       "        0.       , 0.       , 0.       , 0.       , 0.       , 0.       ,\n",
       "        0.       , 0.       , 0.       , 0.       , 0.       , 0.       ,\n",
       "        0.       , 0.       , 0.       , 0.       , 0.       , 0.       ,\n",
       "        0.       , 0.       , 0.       , 0.       , 0.       , 0.       ,\n",
       "        0.       , 0.       , 0.       , 0.       , 0.       , 0.       ,\n",
       "        0.       , 0.       , 0.       , 0.       , 0.       , 0.       ,\n",
       "        0.       , 0.       , 0.       , 0.       , 0.       , 0.       ,\n",
       "        0.       , 0.       , 0.       , 0.       , 0.       , 0.       ,\n",
       "        0.       , 0.       , 0.       , 0.       , 0.       , 0.       ,\n",
       "        0.       , 0.       , 0.       , 0.       , 0.       , 0.       ,\n",
       "        0.       , 0.       , 0.       , 0.       , 0.       , 0.       ,\n",
       "        0.       , 0.       , 0.       , 0.       , 0.       , 0.       ,\n",
       "        0.       , 0.       , 0.       , 0.       , 0.       , 0.       ,\n",
       "        0.       , 0.       , 0.       , 0.       , 0.       , 0.       ,\n",
       "        0.       , 0.       , 0.       , 0.       , 0.       , 0.       ,\n",
       "        0.       , 0.       , 0.       , 0.       , 0.       , 0.       ,\n",
       "        0.       , 0.       , 0.       , 0.       , 0.       , 0.       ,\n",
       "        0.       , 0.       , 0.       , 0.       , 0.       , 0.       ,\n",
       "        0.       , 0.       , 0.       , 0.       , 0.       , 0.       ,\n",
       "        0.       , 0.       , 0.       , 0.       , 0.       , 0.       ,\n",
       "        0.       , 0.       , 0.       , 0.       , 0.       , 0.       ,\n",
       "        0.       , 0.       , 0.       , 0.       , 0.       , 0.       ,\n",
       "        0.       , 0.       , 0.       , 0.       , 0.       , 0.       ,\n",
       "        0.       , 0.       , 0.       , 0.       , 0.       , 0.       ,\n",
       "        0.       , 0.       , 0.       , 0.       , 0.       , 0.       ,\n",
       "        0.       , 0.       , 0.       , 0.       , 0.       , 0.       ,\n",
       "        0.       , 0.       , 0.       , 0.       , 0.       , 0.       ,\n",
       "        0.       , 0.       , 0.       , 0.       , 0.       , 0.       ,\n",
       "        0.       , 0.       , 0.       , 0.       , 0.       , 0.       ,\n",
       "        0.       , 0.       , 0.       , 0.       , 0.       , 0.       ,\n",
       "        0.       , 0.       , 0.       , 0.       , 0.       , 0.       ,\n",
       "        0.       , 0.       , 0.       , 0.       , 0.       , 0.       ,\n",
       "        0.       , 0.       , 0.       , 0.       , 0.       , 0.       ,\n",
       "        0.       , 0.       , 0.       , 0.       , 0.       , 0.       ,\n",
       "        0.       , 0.       , 0.       , 0.       , 0.       , 0.       ,\n",
       "        0.       , 0.       , 0.       , 0.       , 0.       , 0.       ,\n",
       "        0.       , 0.       , 0.       , 0.       , 0.       , 0.       ,\n",
       "        0.       , 0.       , 0.       , 0.       , 0.       , 0.       ,\n",
       "        0.       , 0.       , 0.       , 0.       , 0.       , 0.       ,\n",
       "        0.       , 0.       , 0.       , 0.       , 0.       , 0.       ,\n",
       "        0.       , 0.       , 0.       , 0.       , 0.       , 0.       ,\n",
       "        0.       , 0.       , 0.       , 0.       , 0.       , 0.       ,\n",
       "        0.       , 0.       , 0.       , 0.       , 0.       , 0.       ,\n",
       "        0.       ])]"
      ]
     },
     "execution_count": 7,
     "metadata": {},
     "output_type": "execute_result"
    }
   ],
   "source": [
    "get_values(\"inv.raw\",['switch_point'])\n"
   ]
  },
  {
   "cell_type": "code",
   "execution_count": 8,
   "id": "c64f28bb",
   "metadata": {},
   "outputs": [
    {
     "name": "stdout",
     "output_type": "stream",
     "text": [
      "8.609826999999999e-05\n"
     ]
    }
   ],
   "source": [
    "import os\n",
    "def run_spice_again(x,filename,var_to_output):\n",
    "    param_names_and_values = [\n",
    "    \n",
    "        [\"WP\",   x[0]], \n",
    "        [\"LMIN\", x[1]], \n",
    "        [\"VD\",  3.3]\n",
    "        ]\n",
    "    add_param_lines(filename, param_names_and_values)\n",
    "    \n",
    "    os.system(\"ngspice -b inv.spice -o .log > .log\")\n",
    "#     os.system(\"rm -f .temp\")\n",
    "    filename=\"inv.raw\"\n",
    "    data = spyci.load_raw(filename)  # see 'Data structure' section below\n",
    "    output=get_values(filename,[var_to_output])[0][0]\n",
    "#     print(switch_point)\n",
    "    return output\n",
    "\n",
    "print(run_spice_again([1.5e-6,0.35e-6],\"inv.spice\",'i_max'))"
   ]
  },
  {
   "cell_type": "code",
   "execution_count": 9,
   "id": "e1684b5e",
   "metadata": {},
   "outputs": [],
   "source": [
    "import numpy as np\n",
    "from pymoo.problems.functional import FunctionalProblem\n",
    "from pymoo.algorithms.moo.nsga2 import NSGA2\n",
    "from pymoo.operators.crossover.sbx import SBX\n",
    "from pymoo.operators.mutation.pm import PM\n",
    "from pymoo.operators.sampling.rnd import FloatRandomSampling\n",
    "from pymoo.termination import get_termination\n",
    "from pymoo.optimize import minimize\n",
    "\n",
    "def find_values(n_var,x,range_l,range_u,objs,max_generations,verbose=True):\n",
    "\n",
    "  # now put everything together to a problem object\n",
    "  problem = FunctionalProblem(n_var,\n",
    "                              objs,\n",
    "                              # constr_ieq=constr_ieq,\n",
    "                              xl=np.array(range_l),\n",
    "                              xu=np.array(range_u)\n",
    "                              )\n",
    "    \n",
    "#   F= problem.evaluate([x])\n",
    "  \n",
    "  ###########\n",
    "  algorithm = NSGA2(\n",
    "    pop_size=45,\n",
    "    n_offsprings=10,\n",
    "    sampling=FloatRandomSampling(),\n",
    "    crossover=SBX(prob=0.9, eta=15),\n",
    "    mutation=PM(eta=15),\n",
    "    eliminate_duplicates=True\n",
    "  )\n",
    "  ##############\n",
    "  termination = get_termination(\"n_gen\", max_generations)\n",
    "  ##############\n",
    "  res = minimize(problem,\n",
    "               algorithm,\n",
    "               termination,\n",
    "               seed=9,\n",
    "               save_history=True,\n",
    "               verbose=verbose)\n",
    "  \n",
    "  return res\n",
    "\n"
   ]
  },
  {
   "cell_type": "code",
   "execution_count": 10,
   "id": "d210661a",
   "metadata": {},
   "outputs": [
    {
     "name": "stdout",
     "output_type": "stream",
     "text": [
      "==========================================================\n",
      "n_gen  |  n_eval  | n_nds  |      eps      |   indicator  \n",
      "==========================================================\n",
      "     1 |       45 |      2 |             - |             -\n",
      "     2 |       55 |      2 |  0.000000E+00 |             f\n",
      "     3 |       65 |      2 |  0.000000E+00 |             f\n",
      "     4 |       75 |      1 |  0.3677082774 |         ideal\n",
      "     5 |       85 |      1 |  0.000000E+00 |             f\n",
      "     6 |       95 |      1 |  0.000000E+00 |             f\n",
      "     7 |      105 |      1 |  0.0094449832 |         ideal\n",
      "     8 |      115 |      2 |  1.0000000000 |         ideal\n",
      "     9 |      125 |      2 |  0.000000E+00 |             f\n",
      "    10 |      135 |      2 |  0.000000E+00 |             f\n",
      "    11 |      145 |      2 |  0.000000E+00 |             f\n",
      "    12 |      155 |      2 |  0.000000E+00 |             f\n",
      "    13 |      165 |      2 |  0.7331013204 |         nadir\n",
      "    14 |      175 |      2 |  0.000000E+00 |             f\n",
      "    15 |      185 |      3 |  0.0142029969 |         ideal\n",
      "    16 |      195 |      3 |  0.1382375279 |         nadir\n",
      "    17 |      205 |      3 |  0.000000E+00 |             f\n",
      "    18 |      215 |      3 |  0.0044004905 |             f\n",
      "    19 |      225 |      3 |  0.000000E+00 |             f\n",
      "    20 |      235 |      3 |  0.0003061499 |             f\n",
      "    21 |      245 |      3 |  0.0005542988 |             f\n",
      "    22 |      255 |      3 |  0.0009811274 |             f\n",
      "    23 |      265 |      3 |  0.0009811274 |             f\n",
      "    24 |      275 |      3 |  0.2202905146 |         nadir\n",
      "    25 |      285 |      3 |  0.000000E+00 |             f\n",
      "    26 |      295 |      3 |  0.000000E+00 |             f\n",
      "    27 |      305 |      3 |  0.000000E+00 |             f\n",
      "    28 |      315 |      3 |  0.000000E+00 |             f\n",
      "    29 |      325 |      3 |  0.000000E+00 |             f\n",
      "    30 |      335 |      3 |  0.000000E+00 |             f\n",
      "    31 |      345 |      3 |  0.000000E+00 |             f\n",
      "    32 |      355 |      3 |  0.000000E+00 |             f\n",
      "    33 |      365 |      2 |  3.0000000000 |         nadir\n",
      "    34 |      375 |      2 |  0.000000E+00 |             f\n",
      "    35 |      385 |      2 |  0.000000E+00 |             f\n",
      "    36 |      395 |      2 |  0.000000E+00 |             f\n",
      "    37 |      405 |      2 |  0.000000E+00 |             f\n",
      "    38 |      415 |      2 |  0.000000E+00 |             f\n",
      "    39 |      425 |      2 |  0.000000E+00 |             f\n",
      "    40 |      435 |      2 |  0.000000E+00 |             f\n",
      "    41 |      445 |      2 |  0.000000E+00 |             f\n",
      "    42 |      455 |      2 |  0.000000E+00 |             f\n",
      "    43 |      465 |      2 |  0.000000E+00 |             f\n",
      "    44 |      475 |      2 |  0.000000E+00 |             f\n",
      "    45 |      485 |      2 |  0.0133942765 |         nadir\n",
      "    46 |      495 |      2 |  0.000000E+00 |             f\n",
      "    47 |      505 |      2 |  0.000000E+00 |             f\n",
      "    48 |      515 |      2 |  0.000000E+00 |             f\n",
      "    49 |      525 |      2 |  0.000000E+00 |             f\n",
      "    50 |      535 |      2 |  0.000000E+00 |             f\n"
     ]
    },
    {
     "data": {
      "text/plain": [
       "array([[4.46811650e-06, 3.91095547e-06],\n",
       "       [4.51185029e-07, 4.77017867e-07]])"
      ]
     },
     "execution_count": 10,
     "metadata": {},
     "output_type": "execute_result"
    }
   ],
   "source": [
    "#########################\n",
    "range_l=[0.5e-6, 0.15e-6]\n",
    "range_u=[8e-6, 4e-6]\n",
    "target_switch_point=1.65\n",
    "target_i_max_at=1.65\n",
    "current_x=[1.8e-6,0.35e-6]## correct for 1000Hz\n",
    "max_generations=50\n",
    "verbose=True\n",
    "\n",
    "# print(run_spice_again(current_x,\"inv.spice\"))\n",
    "#########################COST_FUNCTION##########################################\n",
    "cost_function = [\n",
    "    lambda x: (run_spice_again(x,\"inv.spice\",'switch_point')-target_switch_point)**2, ####for the switchpoint of the inverter\n",
    "    lambda x: (run_spice_again(x,\"inv.spice\",'i_max_at')-target_i_max_at)**2 ####for the switchpoint of the inverter\n",
    "]\n",
    "################################################################################\n",
    "\n",
    "r=find_values(2,current_x,range_l,range_u,cost_function,max_generations,verbose=verbose)\n",
    "\n",
    "result=r.X.T\n",
    "result\n"
   ]
  },
  {
   "cell_type": "code",
   "execution_count": 11,
   "id": "17c82054",
   "metadata": {
    "scrolled": true
   },
   "outputs": [
    {
     "name": "stdout",
     "output_type": "stream",
     "text": [
      "========================================\n",
      "Percentage Error is:  0.2685 %\n",
      "Target switch_point:   1.650 V\n",
      "Obtained switch_point(Optimized value ) is:   1.649 V\n",
      "Obtained imax_point(Optimized value ) is:   1.660 V\n",
      "Width WP(Optimized value ) is:   4.468 um\n",
      "Length LMIN(Optimized value ) is:   0.451 um\n",
      "========================================\n",
      "\n",
      "========================================\n",
      "Percentage Error is: -6.5331 %\n",
      "Target switch_point:   1.650 V\n",
      "Obtained switch_point(Optimized value ) is:   1.434 V\n",
      "Obtained imax_point(Optimized value ) is:   1.650 V\n",
      "Width WP(Optimized value ) is:   3.911 um\n",
      "Length LMIN(Optimized value ) is:   0.477 um\n",
      "========================================\n",
      "\n"
     ]
    }
   ],
   "source": [
    "errors=[]\n",
    "for index in range(len(result[0])):\n",
    "    WP_opt=result[0][index]  #1kOhm\n",
    "    LMIN_opt=result[1][index]  # 1µF\n",
    "\n",
    "    obtained_switch_point=run_spice_again([WP_opt,LMIN_opt],\"inv.spice\",'switch_point')\n",
    "    obtained_imax_point=run_spice_again([WP_opt,LMIN_opt],\"inv.spice\",'i_max_at')\n",
    "    error=(((0.5*(obtained_switch_point+obtained_imax_point))-target_switch_point)*100/target_switch_point)\n",
    "    errors.append(abs(error))\n",
    "    print(\"========================================\")\n",
    "    print(\"Percentage Error is: {:7.4f} %\".format(error))\n",
    "    print(\"Target switch_point: {:7.3f} V\".format(target_switch_point))\n",
    "    print(\"Obtained switch_point(Optimized value ) is: {:7.3f} V\".format(obtained_switch_point))\n",
    "    print(\"Obtained imax_point(Optimized value ) is: {:7.3f} V\".format(obtained_imax_point))    \n",
    "    print(\"Width WP(Optimized value ) is: {:7.3f} um\".format(WP_opt*1e6))\n",
    "    print(\"Length LMIN(Optimized value ) is: {:7.3f} um\".format(LMIN_opt*1e6))\n",
    "    print(\"========================================\")\n",
    "    print()\n",
    "best_case_index=errors.index(min(errors))\n",
    "WP_opt=result[0][best_case_index]  #1kOhm\n",
    "LMIN_opt=result[1][best_case_index]  # 1µF\n",
    "obtained_switch_point=run_spice_again([WP_opt,LMIN_opt],\"inv.spice\",'switch_point')"
   ]
  },
  {
   "cell_type": "markdown",
   "id": "1bcdd374",
   "metadata": {},
   "source": [
    "# See the Optimized Values after best case selection"
   ]
  },
  {
   "cell_type": "code",
   "execution_count": 12,
   "id": "527f934b",
   "metadata": {},
   "outputs": [
    {
     "name": "stdout",
     "output_type": "stream",
     "text": [
      "********Digital inverter**********\n",
      ".PARAM WP = 4.468116503408509e-06\n",
      ".PARAM LMIN = 4.511850293170345e-07\n",
      ".PARAM VD = 3.3\n",
      "**--**--**--**--**--**--**--**--**--**\n",
      "\n",
      "*** *** SUPPLY VOLTAGES *** ***\n",
      "VDD VDD 0 {VD}\n",
      "VSS VSS 0 0\n",
      "VIN IN  0 1\n",
      "\n",
      "*** *** CIRCUIT *** ***\n",
      "MP OUT IN VDD VDD PM W={WP}    L={LMIN} pd={2*WP}   ps={2*WP}\n",
      "MN OUT IN VSS VSS NM W={WP/3}  L={LMIN} pd={2/3*WP} ps={2/3*WP}\n",
      "CL OUT VSS 12p\n",
      "\n",
      "*** *** ANALYSIS *** ***\n",
      "\n",
      ".options savecurrents\n",
      ".include b3.typ\n",
      "\n",
      ".control\n",
      "set color0 =white\n",
      "set filetype = ascii\n",
      "dc VIN 0 3.3 0.01\n",
      "*plot OUT @mn[id]*20000\n",
      "\n",
      "meas dc switch_point find out WHEN v-sweep=1.65 CROSS=LAST\n",
      "meas dc i_max    MAX    @mn[id] \n",
      "meas dc i_max_at MAX_AT @mn[id]\n",
      "\n",
      "print switch_point i_max i_max_at\n",
      "\n",
      "write inv.raw OUT @mn[id] switch_point i_max i_max_at\n",
      ".endc\n",
      "\n",
      ".END\n"
     ]
    }
   ],
   "source": [
    "r=os.system(\"cat inv.spice\")"
   ]
  },
  {
   "cell_type": "code",
   "execution_count": 13,
   "id": "1c7933b0",
   "metadata": {},
   "outputs": [
    {
     "data": {
      "image/png": "[encoded data removed]",
      "text/plain": [
       "<Figure size 400x400 with 2 Axes>"
      ]
     },
     "metadata": {},
     "output_type": "display_data"
    }
   ],
   "source": [
    "values=get_values(\"inv.raw\",['i(@mn[id])','v(out)','switch_point','i_max','i_max_at'])\n",
    "v_sweep=np.arange(0, 3.3, 3.3/len(values[1]))\n",
    "\n",
    "fig, ax1 = plt.subplots(figsize=(4, 4))\n",
    "ax2 = ax1.twinx()\n",
    "fig.suptitle(\"CMOS Inverter Optimized Characteristics\", fontsize=15)\n",
    "ax1.set_xlabel(\"v-sweep(V)\", fontsize=14)\n",
    "ax2.set_ylabel(\"Cross-Current(uA)\", fontsize=14)\n",
    "\n",
    "ax1.set_ylabel(\"Vout(V)\", fontsize=14)\n",
    "ax2.plot(v_sweep,values[0]*1e6, lw=2,label ='Cross-current')\n",
    "ax1.plot(v_sweep,values[1], lw=2,label ='Transfer curve')\n",
    "leg=ax2.legend(loc =\"upper right\")\n",
    "leg=ax1.legend(loc =\"upper right\")"
   ]
  },
  {
   "cell_type": "code",
   "execution_count": null,
   "id": "d4b93360",
   "metadata": {},
   "outputs": [],
   "source": []
  }
 ],
 "metadata": {
  "kernelspec": {
   "display_name": "Python 3 (ipykernel)",
   "language": "python",
   "name": "python3"
  },
  "language_info": {
   "codemirror_mode": {
    "name": "ipython",
    "version": 3
   },
   "file_extension": ".py",
   "mimetype": "text/x-python",
   "name": "python",
   "nbconvert_exporter": "python",
   "pygments_lexer": "ipython3",
   "version": "3.10.6"
  }
 },
 "nbformat": 4,
 "nbformat_minor": 5
}
