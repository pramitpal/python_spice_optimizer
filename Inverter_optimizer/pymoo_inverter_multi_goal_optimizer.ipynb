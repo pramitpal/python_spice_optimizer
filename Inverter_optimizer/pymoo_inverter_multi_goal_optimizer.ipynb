{
 "cells": [
  {
   "cell_type": "code",
   "execution_count": null,
   "id": "3d11baa5",
   "metadata": {},
   "outputs": [
    {
     "name": "stdout",
     "output_type": "stream",
     "text": [
      "Defaulting to user installation because normal site-packages is not writeable\n",
      "Collecting pymoo\n",
      "  Downloading pymoo-0.6.0.1-cp310-cp310-manylinux_2_5_x86_64.manylinux1_x86_64.manylinux_2_12_x86_64.manylinux2010_x86_64.whl (2.5 MB)\n",
      "\u001b[2K     \u001b[38;2;114;156;31m━━━━━━━━━━━━━━━━━━━━━━━━━━━━━━━━━━━━━━━━\u001b[0m \u001b[32m2.5/2.5 MB\u001b[0m \u001b[31m7.1 MB/s\u001b[0m eta \u001b[36m0:00:00\u001b[0mm eta \u001b[36m0:00:01\u001b[0m[36m0:00:01\u001b[0m\n",
      "\u001b[?25hRequirement already satisfied: matplotlib>=3 in /usr/local/lib/python3.10/dist-packages (from pymoo) (3.7.1)\n",
      "Requirement already satisfied: numpy>=1.15 in /usr/local/lib/python3.10/dist-packages (from pymoo) (1.24.3)\n",
      "Collecting alive-progress\n",
      "  Downloading alive_progress-3.1.4-py3-none-any.whl (75 kB)\n",
      "\u001b[2K     \u001b[38;2;114;156;31m━━━━━━━━━━━━━━━━━━━━━━━━━━━━━━━━━━━━━━━━\u001b[0m \u001b[32m75.9/75.9 KB\u001b[0m \u001b[31m8.1 MB/s\u001b[0m eta \u001b[36m0:00:00\u001b[0m\n",
      "\u001b[?25hRequirement already satisfied: Deprecated in /usr/lib/python3/dist-packages (from pymoo) (1.2.13)\n",
      "Collecting dill\n",
      "  Downloading dill-0.3.7-py3-none-any.whl (115 kB)\n",
      "\u001b[2K     \u001b[38;2;114;156;31m━━━━━━━━━━━━━━━━━━━━━━━━━━━━━━━━━━━━━━━\u001b[0m \u001b[32m115.3/115.3 KB\u001b[0m \u001b[31m6.6 MB/s\u001b[0m eta \u001b[36m0:00:00\u001b[0m\n",
      "\u001b[?25hCollecting autograd>=1.4\n",
      "  Downloading autograd-1.6.2-py3-none-any.whl (49 kB)\n",
      "\u001b[2K     \u001b[38;2;114;156;31m━━━━━━━━━━━━━━━━━━━━━━━━━━━━━━━━━━━━━━━━\u001b[0m \u001b[32m49.3/49.3 KB\u001b[0m \u001b[31m5.0 MB/s\u001b[0m eta \u001b[36m0:00:00\u001b[0m\n",
      "\u001b[?25hCollecting cma==3.2.2\n",
      "  Downloading cma-3.2.2-py2.py3-none-any.whl (249 kB)\n",
      "\u001b[2K     \u001b[38;2;114;156;31m━━━━━━━━━━━━━━━━━━━━━━━━━━━━━━━━━━━━━━\u001b[0m \u001b[32m249.1/249.1 KB\u001b[0m \u001b[31m11.0 MB/s\u001b[0m eta \u001b[36m0:00:00\u001b[0m\n",
      "\u001b[?25hRequirement already satisfied: scipy>=1.1 in /usr/local/lib/python3.10/dist-packages (from pymoo) (1.10.1)\n",
      "Collecting future>=0.15.2\n",
      "  Downloading future-0.18.3.tar.gz (840 kB)\n",
      "\u001b[2K     \u001b[38;2;114;156;31m━━━━━━━━━━━━━━━━━━━━━━━━━━━━━━━━━━━━━━\u001b[0m \u001b[32m840.9/840.9 KB\u001b[0m \u001b[31m11.2 MB/s\u001b[0m eta \u001b[36m0:00:00\u001b[0mm eta \u001b[36m0:00:01\u001b[0m0:01\u001b[0m\n",
      "\u001b[?25h  Preparing metadata (setup.py) ... \u001b[?25ldone\n",
      "\u001b[?25hRequirement already satisfied: packaging>=20.0 in /usr/local/lib/python3.10/dist-packages (from matplotlib>=3->pymoo) (23.1)\n",
      "Requirement already satisfied: kiwisolver>=1.0.1 in /usr/local/lib/python3.10/dist-packages (from matplotlib>=3->pymoo) (1.4.4)\n",
      "Requirement already satisfied: fonttools>=4.22.0 in /usr/local/lib/python3.10/dist-packages (from matplotlib>=3->pymoo) (4.39.4)\n",
      "Requirement already satisfied: pyparsing>=2.3.1 in /usr/lib/python3/dist-packages (from matplotlib>=3->pymoo) (2.4.7)\n",
      "Requirement already satisfied: pillow>=6.2.0 in /usr/local/lib/python3.10/dist-packages (from matplotlib>=3->pymoo) (9.5.0)\n",
      "Requirement already satisfied: python-dateutil>=2.7 in /usr/local/lib/python3.10/dist-packages (from matplotlib>=3->pymoo) (2.8.2)\n",
      "Requirement already satisfied: cycler>=0.10 in /usr/local/lib/python3.10/dist-packages (from matplotlib>=3->pymoo) (0.11.0)\n",
      "Requirement already satisfied: contourpy>=1.0.1 in /usr/local/lib/python3.10/dist-packages (from matplotlib>=3->pymoo) (1.0.7)\n",
      "Collecting grapheme==0.6.0\n",
      "  Downloading grapheme-0.6.0.tar.gz (207 kB)\n",
      "\u001b[2K     \u001b[38;2;114;156;31m━━━━━━━━━━━━━━━━━━━━━━━━━━━━━━━━━━━━━━\u001b[0m \u001b[32m207.3/207.3 KB\u001b[0m \u001b[31m11.3 MB/s\u001b[0m eta \u001b[36m0:00:00\u001b[0m\n",
      "\u001b[?25h  Preparing metadata (setup.py) ... \u001b[?25ldone\n",
      "\u001b[?25hCollecting about-time==4.2.1\n",
      "  Downloading about_time-4.2.1-py3-none-any.whl (13 kB)\n",
      "Requirement already satisfied: six>=1.5 in /usr/lib/python3/dist-packages (from python-dateutil>=2.7->matplotlib>=3->pymoo) (1.16.0)\n",
      "Building wheels for collected packages: grapheme, future\n",
      "  Building wheel for grapheme (setup.py) ... \u001b[?25ldone\n",
      "\u001b[?25h  Created wheel for grapheme: filename=grapheme-0.6.0-py3-none-any.whl size=210079 sha256=b837268cf6014336c8f06e7994b044f6ca39165732e0a19b0836b3345b447f9b\n",
      "  Stored in directory: /headless/.cache/pip/wheels/01/e1/49/37e6bde9886439057450c494a79b0bef8bbe897a54aebfc757\n",
      "  Building wheel for future (setup.py) ... \u001b[?25ldone\n",
      "\u001b[?25h  Created wheel for future: filename=future-0.18.3-py3-none-any.whl size=492022 sha256=11d354fc81458afc9e9a5d7cafe9d19ff92a3e534d5be71b061ccb80ca033f3e\n",
      "  Stored in directory: /headless/.cache/pip/wheels/5e/a9/47/f118e66afd12240e4662752cc22cefae5d97275623aa8ef57d\n",
      "Successfully built grapheme future\n",
      "Installing collected packages: grapheme, future, dill, cma, about-time, autograd, alive-progress, pymoo\n",
      "\u001b[33m  WARNING: The scripts futurize and pasteurize are installed in '/headless/.local/bin' which is not on PATH.\n",
      "  Consider adding this directory to PATH or, if you prefer to suppress this warning, use --no-warn-script-location.\u001b[0m\u001b[33m\n",
      "\u001b[0mSuccessfully installed about-time-4.2.1 alive-progress-3.1.4 autograd-1.6.2 cma-3.2.2 dill-0.3.7 future-0.18.3 grapheme-0.6.0 pymoo-0.6.0.1\n"
     ]
    },
    {
     "data": {
      "text/html": [
       "<script>Jupyter.notebook.kernel.restart()</script>"
      ]
     },
     "metadata": {},
     "output_type": "display_data"
    }
   ],
   "source": [
    "import sys\n",
    "!{sys.executable} -m pip install pymoo  # For ipopt solver\n",
    "\n",
    "# Install a pip package in the current Jupyter kernel\n",
    "\n",
    "from IPython.display import display_html\n",
    "def restartkernel() :\n",
    "    display_html(\"<script>Jupyter.notebook.kernel.restart()</script>\",raw=True)\n",
    "\n",
    "restartkernel()"
   ]
  },
  {
   "cell_type": "code",
   "execution_count": 1,
   "id": "4a60e5be",
   "metadata": {},
   "outputs": [],
   "source": [
    "import os\n",
    "from spyci import spyci\n",
    "import matplotlib.pyplot as plt\n",
    "%matplotlib inline"
   ]
  },
  {
   "cell_type": "markdown",
   "id": "fdde92da",
   "metadata": {},
   "source": [
    "# Write a file 4th_order_rc_test.spice"
   ]
  },
  {
   "cell_type": "code",
   "execution_count": 97,
   "id": "52ae0dad",
   "metadata": {},
   "outputs": [
    {
     "name": "stdout",
     "output_type": "stream",
     "text": [
      "Overwriting inv.spice\n"
     ]
    }
   ],
   "source": [
    "%%writefile inv.spice\n",
    "********Digital inverter**********\n",
    ".PARAM WP = 1.5e-6\n",
    ".PARAM LMIN = 0.39e-6\n",
    "**--**--**--**--**--**--**--**--**--**\n",
    "\n",
    "*** *** SUPPLY VOLTAGES *** ***\n",
    "VDD VDD 0 3.3\n",
    "VSS VSS 0 0\n",
    "VIN IN  0 1\n",
    "\n",
    "*** *** CIRCUIT *** ***\n",
    "MP OUT IN VDD VDD PM W={WP}    L={LMIN} pd={2*WP}   ps={2*WP}\n",
    "MN OUT IN VSS VSS NM W={WP/3}  L={LMIN} pd={2/3*WP} ps={2/3*WP}\n",
    "CL OUT VSS 12p\n",
    "\n",
    "*** *** ANALYSIS *** ***\n",
    "\n",
    ".options savecurrents\n",
    ".include b3.typ\n",
    "\n",
    ".control\n",
    "set color0 =white\n",
    "set filetype = ascii\n",
    "dc VIN 0 3.3 0.01\n",
    "*plot OUT @mn[id]*20000\n",
    "\n",
    "meas dc switch_point find out WHEN v-sweep=1.65 CROSS=LAST\n",
    "meas dc i_max    MAX    @mn[id] \n",
    "meas dc i_max_at MAX_AT @mn[id]\n",
    "\n",
    "print switch_point i_max i_max_at\n",
    "\n",
    "write inv.raw OUT @mn[id] switch_point i_max i_max_at\n",
    ".endc\n",
    "\n",
    ".END"
   ]
  },
  {
   "cell_type": "code",
   "execution_count": 98,
   "id": "7dd671db",
   "metadata": {},
   "outputs": [
    {
     "name": "stdout",
     "output_type": "stream",
     "text": [
      "Variables:\n",
      "\n",
      "  idx  name          type\n",
      "-----  ------------  -------------\n",
      "    1  v(out)        voltage\n",
      "    2  i(@mn[id])    current\n",
      "    3  switch_point  notype dims=1\n",
      "    4  i_max         notype dims=1\n",
      "    5  i_max_at      notype dims=1\n"
     ]
    }
   ],
   "source": [
    "filename=\"inv.raw\"\n",
    "data = spyci.load_raw(filename)  # see 'Data structure' section below\n",
    "spyci.list_vars(filename)"
   ]
  },
  {
   "cell_type": "code",
   "execution_count": 99,
   "id": "5540fa8e",
   "metadata": {},
   "outputs": [],
   "source": [
    "def add_param_lines(file_path, param_names_and_values):\n",
    "    \n",
    "  if not os.path.exists(file_path):\n",
    "    raise FileNotFoundError(\"File does not exist: {}\".format(file_path))\n",
    "\n",
    "  with open(file_path, \"r\") as f:\n",
    "    lines = f.readlines()\n",
    "\n",
    "  first_line = lines[0]\n",
    "\n",
    "  param_lines = []\n",
    "  for param_name, param_value in param_names_and_values:\n",
    "    param_lines.append(\".PARAM {} = {}\\n\".format(param_name, param_value))\n",
    "\n",
    "  # Find the index of the line with the text `\"**--**--**--**--**--**--**--**--**--**\\n`\n",
    "  recognizer=\"**--**--**--**--**--**--**--**--**--**\\n\"\n",
    "  try:\n",
    "      index = lines.index(recognizer)\n",
    "      new_lines = [first_line] + param_lines + [recognizer] + lines[index + 1:]\n",
    "  except ValueError:\n",
    "      new_lines = [first_line] + param_lines + [recognizer] + lines[1:]\n",
    "\n",
    "  with open(file_path, \"w\") as f:\n",
    "    f.writelines(new_lines)\n"
   ]
  },
  {
   "cell_type": "code",
   "execution_count": 100,
   "id": "f102a9a3",
   "metadata": {},
   "outputs": [],
   "source": [
    "def get_values(filename, pvars=None):\n",
    "    \"\"\"\n",
    "    Load the values from a SPICE raw file and return a list of arrays.\n",
    "\n",
    "    Args:\n",
    "        filename (str): The path to the SPICE raw file.\n",
    "        pvars (list): A list of string variables to load. If None, all variables are loaded.\n",
    "\n",
    "    Returns:\n",
    "        list: A list of arrays, one for each variable in pvars.\n",
    "    \"\"\"\n",
    "\n",
    "    d = spyci.load_raw(filename)\n",
    "    xx = []\n",
    "    for var in pvars:\n",
    "        xx.append(d['values'][var].real)\n",
    "    return xx"
   ]
  },
  {
   "cell_type": "markdown",
   "id": "61ca59da",
   "metadata": {},
   "source": [
    "# Test the add_param_function"
   ]
  },
  {
   "cell_type": "code",
   "execution_count": 101,
   "id": "3e4eea8e",
   "metadata": {},
   "outputs": [],
   "source": [
    "filename = \"inv.spice\"\n",
    "param_names_and_values = [\n",
    "    \n",
    "    [\"WP\",   1.8e-6], \n",
    "    [\"LMIN\", 0.39e-6]\n",
    "\n",
    "    ]\n",
    "add_param_lines(filename, param_names_and_values)"
   ]
  },
  {
   "cell_type": "markdown",
   "id": "5ad35539",
   "metadata": {},
   "source": [
    "# View the contents"
   ]
  },
  {
   "cell_type": "code",
   "execution_count": 102,
   "id": "a51a39c3",
   "metadata": {},
   "outputs": [
    {
     "name": "stdout",
     "output_type": "stream",
     "text": [
      "********Digital inverter**********\n",
      ".PARAM WP = 1.8e-06\n",
      ".PARAM LMIN = 3.9e-07\n",
      "**--**--**--**--**--**--**--**--**--**\n",
      "\n",
      "*** *** SUPPLY VOLTAGES *** ***\n",
      "VDD VDD 0 3.3\n",
      "VSS VSS 0 0\n",
      "VIN IN  0 1\n",
      "\n",
      "*** *** CIRCUIT *** ***\n",
      "MP OUT IN VDD VDD PM W={WP}    L={LMIN} pd={2*WP}   ps={2*WP}\n",
      "MN OUT IN VSS VSS NM W={WP/3}  L={LMIN} pd={2/3*WP} ps={2/3*WP}\n",
      "CL OUT VSS 12p\n",
      "\n",
      "*** *** ANALYSIS *** ***\n",
      "\n",
      ".options savecurrents\n",
      ".include b3.typ\n",
      "\n",
      ".control\n",
      "set color0 =white\n",
      "set filetype = ascii\n",
      "dc VIN 0 3.3 0.01\n",
      "*plot OUT @mn[id]*20000\n",
      "\n",
      "meas dc switch_point find out WHEN v-sweep=1.65 CROSS=LAST\n",
      "meas dc i_max    MAX    @mn[id] \n",
      "meas dc i_max_at MAX_AT @mn[id]\n",
      "\n",
      "print switch_point i_max i_max_at\n",
      "\n",
      "write inv.raw OUT @mn[id] switch_point i_max i_max_at\n",
      ".endc\n",
      "\n",
      ".END\n"
     ]
    }
   ],
   "source": [
    "r=os.system(\"cat inv.spice\")"
   ]
  },
  {
   "cell_type": "markdown",
   "id": "af06862d",
   "metadata": {},
   "source": [
    "# Test the get_values function"
   ]
  },
  {
   "cell_type": "code",
   "execution_count": 103,
   "id": "b7f1623c",
   "metadata": {},
   "outputs": [
    {
     "data": {
      "text/plain": [
       "[array([0.4504625, 0.       , 0.       , 0.       , 0.       , 0.       ,\n",
       "        0.       , 0.       , 0.       , 0.       , 0.       , 0.       ,\n",
       "        0.       , 0.       , 0.       , 0.       , 0.       , 0.       ,\n",
       "        0.       , 0.       , 0.       , 0.       , 0.       , 0.       ,\n",
       "        0.       , 0.       , 0.       , 0.       , 0.       , 0.       ,\n",
       "        0.       , 0.       , 0.       , 0.       , 0.       , 0.       ,\n",
       "        0.       , 0.       , 0.       , 0.       , 0.       , 0.       ,\n",
       "        0.       , 0.       , 0.       , 0.       , 0.       , 0.       ,\n",
       "        0.       , 0.       , 0.       , 0.       , 0.       , 0.       ,\n",
       "        0.       , 0.       , 0.       , 0.       , 0.       , 0.       ,\n",
       "        0.       , 0.       , 0.       , 0.       , 0.       , 0.       ,\n",
       "        0.       , 0.       , 0.       , 0.       , 0.       , 0.       ,\n",
       "        0.       , 0.       , 0.       , 0.       , 0.       , 0.       ,\n",
       "        0.       , 0.       , 0.       , 0.       , 0.       , 0.       ,\n",
       "        0.       , 0.       , 0.       , 0.       , 0.       , 0.       ,\n",
       "        0.       , 0.       , 0.       , 0.       , 0.       , 0.       ,\n",
       "        0.       , 0.       , 0.       , 0.       , 0.       , 0.       ,\n",
       "        0.       , 0.       , 0.       , 0.       , 0.       , 0.       ,\n",
       "        0.       , 0.       , 0.       , 0.       , 0.       , 0.       ,\n",
       "        0.       , 0.       , 0.       , 0.       , 0.       , 0.       ,\n",
       "        0.       , 0.       , 0.       , 0.       , 0.       , 0.       ,\n",
       "        0.       , 0.       , 0.       , 0.       , 0.       , 0.       ,\n",
       "        0.       , 0.       , 0.       , 0.       , 0.       , 0.       ,\n",
       "        0.       , 0.       , 0.       , 0.       , 0.       , 0.       ,\n",
       "        0.       , 0.       , 0.       , 0.       , 0.       , 0.       ,\n",
       "        0.       , 0.       , 0.       , 0.       , 0.       , 0.       ,\n",
       "        0.       , 0.       , 0.       , 0.       , 0.       , 0.       ,\n",
       "        0.       , 0.       , 0.       , 0.       , 0.       , 0.       ,\n",
       "        0.       , 0.       , 0.       , 0.       , 0.       , 0.       ,\n",
       "        0.       , 0.       , 0.       , 0.       , 0.       , 0.       ,\n",
       "        0.       , 0.       , 0.       , 0.       , 0.       , 0.       ,\n",
       "        0.       , 0.       , 0.       , 0.       , 0.       , 0.       ,\n",
       "        0.       , 0.       , 0.       , 0.       , 0.       , 0.       ,\n",
       "        0.       , 0.       , 0.       , 0.       , 0.       , 0.       ,\n",
       "        0.       , 0.       , 0.       , 0.       , 0.       , 0.       ,\n",
       "        0.       , 0.       , 0.       , 0.       , 0.       , 0.       ,\n",
       "        0.       , 0.       , 0.       , 0.       , 0.       , 0.       ,\n",
       "        0.       , 0.       , 0.       , 0.       , 0.       , 0.       ,\n",
       "        0.       , 0.       , 0.       , 0.       , 0.       , 0.       ,\n",
       "        0.       , 0.       , 0.       , 0.       , 0.       , 0.       ,\n",
       "        0.       , 0.       , 0.       , 0.       , 0.       , 0.       ,\n",
       "        0.       , 0.       , 0.       , 0.       , 0.       , 0.       ,\n",
       "        0.       , 0.       , 0.       , 0.       , 0.       , 0.       ,\n",
       "        0.       , 0.       , 0.       , 0.       , 0.       , 0.       ,\n",
       "        0.       , 0.       , 0.       , 0.       , 0.       , 0.       ,\n",
       "        0.       , 0.       , 0.       , 0.       , 0.       , 0.       ,\n",
       "        0.       , 0.       , 0.       , 0.       , 0.       , 0.       ,\n",
       "        0.       , 0.       , 0.       , 0.       , 0.       , 0.       ,\n",
       "        0.       , 0.       , 0.       , 0.       , 0.       , 0.       ,\n",
       "        0.       , 0.       , 0.       , 0.       , 0.       , 0.       ,\n",
       "        0.       , 0.       , 0.       , 0.       , 0.       , 0.       ,\n",
       "        0.       , 0.       , 0.       , 0.       , 0.       , 0.       ,\n",
       "        0.       , 0.       , 0.       , 0.       , 0.       , 0.       ,\n",
       "        0.       , 0.       , 0.       , 0.       , 0.       , 0.       ,\n",
       "        0.       , 0.       , 0.       , 0.       , 0.       , 0.       ,\n",
       "        0.       ])]"
      ]
     },
     "execution_count": 103,
     "metadata": {},
     "output_type": "execute_result"
    }
   ],
   "source": [
    "get_values(\"inv.raw\",['switch_point'])\n"
   ]
  },
  {
   "cell_type": "code",
   "execution_count": 106,
   "id": "c64f28bb",
   "metadata": {},
   "outputs": [
    {
     "name": "stdout",
     "output_type": "stream",
     "text": [
      "8.609826999999999e-05\n"
     ]
    }
   ],
   "source": [
    "import os\n",
    "def run_spice_again(x,param_names,filename,var_to_output):\n",
    "#     param_names_and_values = [  \n",
    "#         [\"WP\",   x[0]], \n",
    "#         [\"LMIN\", x[1]], \n",
    "#         [\"VD\",  3.3]\n",
    "#         ]\n",
    "    param_names_and_values = [[param_name, value] for param_name, value in zip(param_names, x)]\n",
    "    add_param_lines(filename, param_names_and_values)\n",
    "    \n",
    "    os.system(\"ngspice -b inv.spice -o .log > .log\")\n",
    "#     os.system(\"rm -f .temp\")\n",
    "    filename=\"inv.raw\"\n",
    "    data = spyci.load_raw(filename)  # see 'Data structure' section below\n",
    "    output=get_values(filename,[var_to_output])[0][0]\n",
    "#     print(switch_point)\n",
    "    return output\n",
    "\n",
    "print(run_spice_again([1.5e-6,0.35e-6],[\"WP\",\"LMIN\"],\"inv.spice\",'i_max'))"
   ]
  },
  {
   "cell_type": "code",
   "execution_count": 166,
   "id": "9608e6e5",
   "metadata": {},
   "outputs": [],
   "source": [
    "from pymoo.util.display.column import Column\n",
    "from pymoo.util.display.output import Output\n",
    "\n",
    "\n",
    "class MyOutput(Output):\n",
    "\n",
    "    def __init__(self,variables):\n",
    "        super().__init__()\n",
    "\n",
    "        # Define your variable names here as a list of strings\n",
    "        self.variable_names = [\"n_Gen\"]\n",
    "        self.variable_names+= variables\n",
    "\n",
    "        # Create columns for each variable with specified widths\n",
    "        self.columns = [Column(var_name, width=10) for var_name in self.variable_names]\n",
    "\n",
    "    def update(self, algorithm):\n",
    "        super().update(algorithm)\n",
    "\n",
    "        # Get the variable values from the algorithm's population\n",
    "        x_values = algorithm.pop.get(\"X\")\n",
    "\n",
    "        # Update the columns with the respective variable values\n",
    "        for i, var_name in enumerate(self.variable_names):\n",
    "            if i==0:\n",
    "                self.columns[0].set(algorithm.n_gen)\n",
    "            else:\n",
    "                self.columns[i].set(x_values[0][i-1])\n",
    "#         print(dir(algorithm))\n"
   ]
  },
  {
   "cell_type": "code",
   "execution_count": 209,
   "id": "e1684b5e",
   "metadata": {},
   "outputs": [],
   "source": [
    "import numpy as np\n",
    "from pymoo.problems.functional import FunctionalProblem\n",
    "from pymoo.algorithms.moo.nsga2 import NSGA2\n",
    "from pymoo.operators.crossover.sbx import SBX\n",
    "from pymoo.operators.mutation.pm import PM\n",
    "from pymoo.operators.sampling.rnd import FloatRandomSampling\n",
    "from pymoo.termination import get_termination\n",
    "from pymoo.optimize import minimize\n",
    "from datetime import datetime\n",
    "import random\n",
    "\n",
    "def find_values(n_var,variable_names,x,range_l,range_u,objs,max_generations,verbose=True,randomize_seed=False):\n",
    "\n",
    "  # now put everything together to a problem object\n",
    "  problem = FunctionalProblem(n_var,\n",
    "                              objs,\n",
    "                              # constr_ieq=constr_ieq,\n",
    "                              xl=np.array(range_l),\n",
    "                              xu=np.array(range_u)\n",
    "                              )\n",
    "    \n",
    "#   F= problem.evaluate([x])\n",
    "  \n",
    "  ###########\n",
    "  algorithm = NSGA2(\n",
    "    pop_size=45,\n",
    "    n_offsprings=10,\n",
    "    sampling=FloatRandomSampling(),\n",
    "    crossover=SBX(prob=0.9, eta=15),\n",
    "    mutation=PM(eta=15),\n",
    "    eliminate_duplicates=True\n",
    "  )\n",
    "  ##############\n",
    "  termination = get_termination(\"n_gen\", max_generations)\n",
    "  ##############\n",
    "  if randomize_seed:\n",
    "        random.seed(datetime.now().timestamp())\n",
    "        seed=random.randint(0, 50)\n",
    "  else:\n",
    "        seed=5\n",
    "        \n",
    "  res = minimize(problem,\n",
    "               algorithm,\n",
    "               termination,\n",
    "               seed=seed,\n",
    "               output=MyOutput(variable_names),\n",
    "               save_history=True,\n",
    "               verbose=verbose)\n",
    "  \n",
    "  return res\n",
    "\n"
   ]
  },
  {
   "cell_type": "code",
   "execution_count": 216,
   "id": "d210661a",
   "metadata": {},
   "outputs": [
    {
     "name": "stdout",
     "output_type": "stream",
     "text": [
      "====================================\n",
      "  n_Gen    |     WP     |    LMIN   \n",
      "====================================\n",
      "         1 |  6.686E-06 |  5.127E-07\n",
      "         2 |  6.686E-06 |  5.127E-07\n",
      "         3 |  6.686E-06 |  5.127E-07\n",
      "         4 |  7.038E-06 |  3.616E-07\n",
      "         5 |  7.038E-06 |  3.616E-07\n",
      "         6 |  7.038E-06 |  3.616E-07\n",
      "         7 |  3.914E-06 |  5.127E-07\n",
      "         8 |  3.914E-06 |  5.127E-07\n",
      "         9 |  3.914E-06 |  5.127E-07\n",
      "        10 |  4.716E-06 |  4.587E-07\n",
      "        11 |  4.716E-06 |  4.587E-07\n",
      "        12 |  4.716E-06 |  4.587E-07\n",
      "        13 |  4.716E-06 |  4.587E-07\n",
      "        14 |  4.716E-06 |  4.587E-07\n",
      "        15 |  4.716E-06 |  4.587E-07\n",
      "        16 |  2.115E-06 |  4.730E-07\n",
      "        17 |  2.115E-06 |  4.730E-07\n",
      "        18 |  2.115E-06 |  4.730E-07\n",
      "        19 |  2.115E-06 |  4.730E-07\n",
      "        20 |  1.995E-06 |  4.088E-07\n",
      "        21 |  1.995E-06 |  4.088E-07\n",
      "        22 |  1.995E-06 |  4.088E-07\n",
      "        23 |  1.995E-06 |  4.088E-07\n",
      "        24 |  2.203E-06 |  4.143E-07\n",
      "        25 |  3.208E-06 |  4.858E-07\n",
      "        26 |  3.208E-06 |  4.858E-07\n",
      "        27 |  3.208E-06 |  4.858E-07\n",
      "        28 |  4.268E-06 |  4.535E-07\n",
      "        29 |  4.268E-06 |  4.535E-07\n",
      "        30 |  4.268E-06 |  4.535E-07\n",
      "        31 |  4.268E-06 |  4.535E-07\n",
      "        32 |  4.268E-06 |  4.535E-07\n",
      "        33 |  2.357E-06 |  4.594E-07\n",
      "        34 |  2.357E-06 |  4.594E-07\n",
      "        35 |  2.357E-06 |  4.594E-07\n",
      "        36 |  2.357E-06 |  4.594E-07\n",
      "        37 |  2.357E-06 |  4.594E-07\n",
      "        38 |  2.357E-06 |  4.594E-07\n",
      "        39 |  2.357E-06 |  4.594E-07\n",
      "        40 |  2.357E-06 |  4.594E-07\n"
     ]
    }
   ],
   "source": [
    "#########################\n",
    "range_l=[0.5e-6, 0.15e-6]\n",
    "range_u=[8e-6, 4e-6]\n",
    "target_switch_point=1.65\n",
    "target_i_max_at=1.65\n",
    "x=[]\n",
    "max_generations=40\n",
    "verbose=True\n",
    "randomize_seed=False\n",
    "variable_names=[\"WP\", \"LMIN\"]\n",
    "\n",
    "current_x=[1.8e-6,0.35e-6]\n",
    "# print(run_spice_again(current_x,variable_names,'inv.spice','switch_point'))\n",
    "#########################COST_FUNCTION##########################################\n",
    "cost_function = [\n",
    "    lambda x: (run_spice_again(x,variable_names,\"inv.spice\",'switch_point')-target_switch_point)**2, ####for the switchpoint of the inverter\n",
    "    lambda x: (run_spice_again(x,variable_names,\"inv.spice\",'i_max_at')-target_i_max_at)**2 ####for the switchpoint of the inverter\n",
    "]\n",
    "################################################################################\n",
    "\n",
    "r=find_values(2,variable_names,x,range_l,range_u,cost_function,max_generations,verbose=verbose,randomize_seed=randomize_seed)\n",
    "\n",
    "result=r.X.T\n"
   ]
  },
  {
   "cell_type": "code",
   "execution_count": 217,
   "id": "17c82054",
   "metadata": {
    "scrolled": true
   },
   "outputs": [
    {
     "name": "stdout",
     "output_type": "stream",
     "text": [
      "========================================\n",
      "Percentage Error is: -7.8813 %\n",
      "Target switch_point:   1.650 V\n",
      "Obtained switch_point(Optimized value ) is:   1.390 V\n",
      "Obtained imax_point(Optimized value ) is:   1.650 V\n",
      "Width WP(Optimized value ) is:   2.357 um\n",
      "Length LMIN(Optimized value ) is:   0.459 um\n",
      "========================================\n",
      "\n",
      "========================================\n",
      "Percentage Error is: -0.0772 %\n",
      "Target switch_point:   1.650 V\n",
      "Obtained switch_point(Optimized value ) is:   1.637 V\n",
      "Obtained imax_point(Optimized value ) is:   1.660 V\n",
      "Width WP(Optimized value ) is:   3.913 um\n",
      "Length LMIN(Optimized value ) is:   0.453 um\n",
      "========================================\n",
      "\n"
     ]
    }
   ],
   "source": [
    "errors=[]\n",
    "for index in range(len(result[0])):\n",
    "    WP_opt=result[0][index]  #1kOhm\n",
    "    LMIN_opt=result[1][index]  # 1µF\n",
    "\n",
    "    obtained_switch_point=run_spice_again([WP_opt,LMIN_opt],variable_names,\"inv.spice\",'switch_point')\n",
    "    obtained_imax_point=run_spice_again([WP_opt,LMIN_opt],variable_names,\"inv.spice\",'i_max_at')\n",
    "    error=(((0.5*(obtained_switch_point+obtained_imax_point))-target_switch_point)*100/target_switch_point)\n",
    "    errors.append(abs(error))\n",
    "    print(\"========================================\")\n",
    "    print(\"Percentage Error is: {:7.4f} %\".format(error))\n",
    "    print(\"Target switch_point: {:7.3f} V\".format(target_switch_point))\n",
    "    print(\"Obtained switch_point(Optimized value ) is: {:7.3f} V\".format(obtained_switch_point))\n",
    "    print(\"Obtained imax_point(Optimized value ) is: {:7.3f} V\".format(obtained_imax_point))    \n",
    "    print(\"Width WP(Optimized value ) is: {:7.3f} um\".format(WP_opt*1e6))\n",
    "    print(\"Length LMIN(Optimized value ) is: {:7.3f} um\".format(LMIN_opt*1e6))\n",
    "    print(\"========================================\")\n",
    "    print()\n",
    "best_case_index=errors.index(min(errors))\n",
    "WP_opt=result[0][best_case_index]  #1kOhm\n",
    "LMIN_opt=result[1][best_case_index]  # 1µF\n",
    "obtained_switch_point=run_spice_again([WP_opt,LMIN_opt],variable_names,\"inv.spice\",'switch_point')"
   ]
  },
  {
   "cell_type": "markdown",
   "id": "1bcdd374",
   "metadata": {},
   "source": [
    "# See the Optimized Values after best case selection"
   ]
  },
  {
   "cell_type": "code",
   "execution_count": 218,
   "id": "527f934b",
   "metadata": {},
   "outputs": [
    {
     "name": "stdout",
     "output_type": "stream",
     "text": [
      "********Digital inverter**********\n",
      ".PARAM WP = 3.912908005215549e-06\n",
      ".PARAM LMIN = 4.528549498340625e-07\n",
      "**--**--**--**--**--**--**--**--**--**\n",
      "\n",
      "*** *** SUPPLY VOLTAGES *** ***\n",
      "VDD VDD 0 3.3\n",
      "VSS VSS 0 0\n",
      "VIN IN  0 1\n",
      "\n",
      "*** *** CIRCUIT *** ***\n",
      "MP OUT IN VDD VDD PM W={WP}    L={LMIN} pd={2*WP}   ps={2*WP}\n",
      "MN OUT IN VSS VSS NM W={WP/3}  L={LMIN} pd={2/3*WP} ps={2/3*WP}\n",
      "CL OUT VSS 12p\n",
      "\n",
      "*** *** ANALYSIS *** ***\n",
      "\n",
      ".options savecurrents\n",
      ".include b3.typ\n",
      "\n",
      ".control\n",
      "set color0 =white\n",
      "set filetype = ascii\n",
      "dc VIN 0 3.3 0.01\n",
      "*plot OUT @mn[id]*20000\n",
      "\n",
      "meas dc switch_point find out WHEN v-sweep=1.65 CROSS=LAST\n",
      "meas dc i_max    MAX    @mn[id] \n",
      "meas dc i_max_at MAX_AT @mn[id]\n",
      "\n",
      "print switch_point i_max i_max_at\n",
      "\n",
      "write inv.raw OUT @mn[id] switch_point i_max i_max_at\n",
      ".endc\n",
      "\n",
      ".END\n"
     ]
    }
   ],
   "source": [
    "r=os.system(\"cat inv.spice\")"
   ]
  },
  {
   "cell_type": "code",
   "execution_count": 219,
   "id": "1c7933b0",
   "metadata": {},
   "outputs": [
    {
     "data": {
      "image/png": "[encoded data removed]",
      "text/plain": [
       "<Figure size 400x400 with 2 Axes>"
      ]
     },
     "metadata": {},
     "output_type": "display_data"
    }
   ],
   "source": [
    "values=get_values(\"inv.raw\",['i(@mn[id])','v(out)','switch_point','i_max','i_max_at'])\n",
    "v_sweep=np.arange(0, 3.3, 3.3/len(values[1]))\n",
    "\n",
    "fig, ax1 = plt.subplots(figsize=(4, 4))\n",
    "ax2 = ax1.twinx()\n",
    "fig.suptitle(\"CMOS Inverter Optimized Characteristics\", fontsize=15)\n",
    "ax1.set_xlabel(\"v-sweep(V)\", fontsize=14)\n",
    "ax2.set_ylabel(\"Cross-Current(uA)\", fontsize=14)\n",
    "\n",
    "ax1.set_ylabel(\"Vout(V)\", fontsize=14)\n",
    "ax2.plot(v_sweep,values[0]*1e6, lw=2,label ='Cross-current')\n",
    "ax1.plot(v_sweep,values[1], lw=2,label ='Transfer curve')\n",
    "leg=ax2.legend(loc =\"upper right\")\n",
    "leg=ax1.legend(loc =\"upper right\")"
   ]
  },
  {
   "cell_type": "code",
   "execution_count": null,
   "id": "d4b93360",
   "metadata": {},
   "outputs": [],
   "source": []
  }
 ],
 "metadata": {
  "kernelspec": {
   "display_name": "Python 3 (ipykernel)",
   "language": "python",
   "name": "python3"
  },
  "language_info": {
   "codemirror_mode": {
    "name": "ipython",
    "version": 3
   },
   "file_extension": ".py",
   "mimetype": "text/x-python",
   "name": "python",
   "nbconvert_exporter": "python",
   "pygments_lexer": "ipython3",
   "version": "3.10.6"
  }
 },
 "nbformat": 4,
 "nbformat_minor": 5
}
