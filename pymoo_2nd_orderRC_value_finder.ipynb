{
 "cells": [
  {
   "cell_type": "code",
   "execution_count": null,
   "id": "3d11baa5",
   "metadata": {},
   "outputs": [
    {
     "name": "stdout",
     "output_type": "stream",
     "text": [
      "Defaulting to user installation because normal site-packages is not writeable\n",
      "Requirement already satisfied: pymoo in /headless/.local/lib/python3.10/site-packages (0.6.0.1)\n",
      "Requirement already satisfied: alive-progress in /headless/.local/lib/python3.10/site-packages (from pymoo) (3.1.4)\n",
      "Requirement already satisfied: autograd>=1.4 in /headless/.local/lib/python3.10/site-packages (from pymoo) (1.6.2)\n",
      "Requirement already satisfied: numpy>=1.15 in /usr/local/lib/python3.10/dist-packages (from pymoo) (1.24.3)\n",
      "Requirement already satisfied: matplotlib>=3 in /usr/local/lib/python3.10/dist-packages (from pymoo) (3.7.1)\n",
      "Requirement already satisfied: scipy>=1.1 in /usr/local/lib/python3.10/dist-packages (from pymoo) (1.10.1)\n",
      "Requirement already satisfied: dill in /headless/.local/lib/python3.10/site-packages (from pymoo) (0.3.7)\n",
      "Requirement already satisfied: Deprecated in /usr/lib/python3/dist-packages (from pymoo) (1.2.13)\n",
      "Requirement already satisfied: cma==3.2.2 in /headless/.local/lib/python3.10/site-packages (from pymoo) (3.2.2)\n",
      "Requirement already satisfied: future>=0.15.2 in /headless/.local/lib/python3.10/site-packages (from autograd>=1.4->pymoo) (0.18.3)\n",
      "Requirement already satisfied: packaging>=20.0 in /usr/local/lib/python3.10/dist-packages (from matplotlib>=3->pymoo) (23.1)\n",
      "Requirement already satisfied: kiwisolver>=1.0.1 in /usr/local/lib/python3.10/dist-packages (from matplotlib>=3->pymoo) (1.4.4)\n",
      "Requirement already satisfied: fonttools>=4.22.0 in /usr/local/lib/python3.10/dist-packages (from matplotlib>=3->pymoo) (4.39.4)\n",
      "Requirement already satisfied: contourpy>=1.0.1 in /usr/local/lib/python3.10/dist-packages (from matplotlib>=3->pymoo) (1.0.7)\n",
      "Requirement already satisfied: cycler>=0.10 in /usr/local/lib/python3.10/dist-packages (from matplotlib>=3->pymoo) (0.11.0)\n",
      "Requirement already satisfied: pillow>=6.2.0 in /usr/local/lib/python3.10/dist-packages (from matplotlib>=3->pymoo) (9.5.0)\n",
      "Requirement already satisfied: pyparsing>=2.3.1 in /usr/lib/python3/dist-packages (from matplotlib>=3->pymoo) (2.4.7)\n",
      "Requirement already satisfied: python-dateutil>=2.7 in /usr/local/lib/python3.10/dist-packages (from matplotlib>=3->pymoo) (2.8.2)\n",
      "Requirement already satisfied: grapheme==0.6.0 in /headless/.local/lib/python3.10/site-packages (from alive-progress->pymoo) (0.6.0)\n",
      "Requirement already satisfied: about-time==4.2.1 in /headless/.local/lib/python3.10/site-packages (from alive-progress->pymoo) (4.2.1)\n",
      "Requirement already satisfied: six>=1.5 in /usr/lib/python3/dist-packages (from python-dateutil>=2.7->matplotlib>=3->pymoo) (1.16.0)\n"
     ]
    },
    {
     "data": {
      "text/html": [
       "<script>Jupyter.notebook.kernel.restart()</script>"
      ]
     },
     "metadata": {},
     "output_type": "display_data"
    }
   ],
   "source": [
    "import sys\n",
    "!{sys.executable} -m pip install pymoo  # For ipopt solver\n",
    "\n",
    "# Install a pip package in the current Jupyter kernel\n",
    "\n",
    "from IPython.display import display_html\n",
    "def restartkernel() :\n",
    "    display_html(\"<script>Jupyter.notebook.kernel.restart()</script>\",raw=True)\n",
    "\n",
    "restartkernel()"
   ]
  },
  {
   "cell_type": "code",
   "execution_count": 1,
   "id": "4a60e5be",
   "metadata": {},
   "outputs": [],
   "source": [
    "import os\n",
    "from spyci import spyci\n",
    "import matplotlib.pyplot as plt\n",
    "%matplotlib inline"
   ]
  },
  {
   "cell_type": "markdown",
   "id": "fdde92da",
   "metadata": {},
   "source": [
    "# Write a file 2nd_order_rc_test.spice"
   ]
  },
  {
   "cell_type": "code",
   "execution_count": 56,
   "id": "52ae0dad",
   "metadata": {},
   "outputs": [
    {
     "name": "stdout",
     "output_type": "stream",
     "text": [
      "Writing 2nd_order_rc_test.spice\n"
     ]
    }
   ],
   "source": [
    "%%writefile 2nd_order_rc_test.spice\n",
    "***** 2nd Order RC Circuit Frequency Response *****\n",
    ".PARAM R_1 = 2096.530184823837\n",
    ".PARAM C_1 = 5.710242851887112e-08\n",
    ".PARAM START = 1\n",
    ".PARAM STOP = 1000000000.0\n",
    "**--**--**--**--**--**--**--**--**--**\n",
    "r1 1 2 {R_1}\n",
    "c1 2 0 {C_1}\n",
    "r2 2 3 {R_2}\n",
    "c2 3 0 {C_2}\n",
    "\n",
    "\n",
    "********Specifying an AC source with zero dc\n",
    "vin 1 0 dc 0 ac 1\n",
    "********AC analysis for 1 Hz to 1MHz, 10 points per decade\n",
    ".ac dec 10 {START} {STOP}\n",
    "\n",
    "\n",
    ".control\n",
    "set filetype=ascii\n",
    "run\n",
    "\n",
    "let m=vdb(3)\n",
    "\n",
    "*plot m xlog\n",
    "\n",
    "meas ac cutoff find frequency WHEN m=-3.0 CROSS=LAST\n",
    "\n",
    "write 2nd_order_rc_test.raw cutoff\n",
    ".endc\n",
    ".end"
   ]
  },
  {
   "cell_type": "code",
   "execution_count": 65,
   "id": "7dd671db",
   "metadata": {},
   "outputs": [
    {
     "name": "stdout",
     "output_type": "stream",
     "text": [
      "Variables:\n",
      "\n",
      "  idx  name    type\n",
      "-----  ------  -------------\n",
      "    1  cutoff  notype dims=1\n"
     ]
    }
   ],
   "source": [
    "filename=\"2nd_order_rc_test.raw\"\n",
    "data = spyci.load_raw(filename)  # see 'Data structure' section below\n",
    "spyci.list_vars(filename)"
   ]
  },
  {
   "cell_type": "code",
   "execution_count": 58,
   "id": "5540fa8e",
   "metadata": {},
   "outputs": [],
   "source": [
    "def add_param_lines(file_path, param_names_and_values):\n",
    "    \n",
    "  if not os.path.exists(file_path):\n",
    "    raise FileNotFoundError(\"File does not exist: {}\".format(file_path))\n",
    "\n",
    "  with open(file_path, \"r\") as f:\n",
    "    lines = f.readlines()\n",
    "\n",
    "  first_line = lines[0]\n",
    "\n",
    "  param_lines = []\n",
    "  for param_name, param_value in param_names_and_values:\n",
    "    param_lines.append(\".PARAM {} = {}\\n\".format(param_name, param_value))\n",
    "\n",
    "  # Find the index of the line with the text `\"**--**--**--**--**--**--**--**--**--**\\n`\n",
    "  recognizer=\"**--**--**--**--**--**--**--**--**--**\\n\"\n",
    "  try:\n",
    "      index = lines.index(recognizer)\n",
    "      new_lines = [first_line] + param_lines + [recognizer] + lines[index + 1:]\n",
    "  except ValueError:\n",
    "      new_lines = [first_line] + param_lines + [recognizer] + lines[1:]\n",
    "\n",
    "  with open(file_path, \"w\") as f:\n",
    "    f.writelines(new_lines)\n"
   ]
  },
  {
   "cell_type": "code",
   "execution_count": 59,
   "id": "f102a9a3",
   "metadata": {},
   "outputs": [],
   "source": [
    "def get_values(filename, pvars=None):\n",
    "    \"\"\"\n",
    "    Load the values from a SPICE raw file and return a list of arrays.\n",
    "\n",
    "    Args:\n",
    "        filename (str): The path to the SPICE raw file.\n",
    "        pvars (list): A list of string variables to load. If None, all variables are loaded.\n",
    "\n",
    "    Returns:\n",
    "        list: A list of arrays, one for each variable in pvars.\n",
    "    \"\"\"\n",
    "\n",
    "    d = spyci.load_raw(filename)\n",
    "    xx = []\n",
    "    for var in pvars:\n",
    "        xx.append(d['values'][var].real)\n",
    "    return xx"
   ]
  },
  {
   "cell_type": "markdown",
   "id": "61ca59da",
   "metadata": {},
   "source": [
    "# Test the add_param_function"
   ]
  },
  {
   "cell_type": "code",
   "execution_count": 60,
   "id": "3e4eea8e",
   "metadata": {},
   "outputs": [],
   "source": [
    "filename = \"2nd_order_rc_test.spice\"\n",
    "param_names_and_values = [\n",
    "    \n",
    "    [\"R_1\",   1e3], \n",
    "    [\"C_1\",   1e-6],\n",
    "    [\"R_2\",   1e3], \n",
    "    [\"C_2\",   1e-6],\n",
    "    [\"START\", 1], \n",
    "    [\"STOP\",  1e8]\n",
    "    \n",
    "    ]\n",
    "add_param_lines(filename, param_names_and_values)"
   ]
  },
  {
   "cell_type": "markdown",
   "id": "5ad35539",
   "metadata": {},
   "source": [
    "# View the contents"
   ]
  },
  {
   "cell_type": "code",
   "execution_count": 61,
   "id": "a51a39c3",
   "metadata": {},
   "outputs": [
    {
     "name": "stdout",
     "output_type": "stream",
     "text": [
      "***** 2nd Order RC Circuit Frequency Response *****\n",
      ".PARAM R_1 = 1000.0\n",
      ".PARAM C_1 = 1e-06\n",
      ".PARAM R_2 = 1000.0\n",
      ".PARAM C_2 = 1e-06\n",
      ".PARAM START = 1\n",
      ".PARAM STOP = 100000000.0\n",
      "**--**--**--**--**--**--**--**--**--**\n",
      "r1 1 2 {R_1}\n",
      "c1 2 0 {C_1}\n",
      "r2 2 3 {R_2}\n",
      "c2 3 0 {C_2}\n",
      "\n",
      "\n",
      "********Specifying an AC source with zero dc\n",
      "vin 1 0 dc 0 ac 1\n",
      "********AC analysis for 1 Hz to 1MHz, 10 points per decade\n",
      ".ac dec 10 {START} {STOP}\n",
      "\n",
      "\n",
      ".control\n",
      "set filetype=ascii\n",
      "run\n",
      "\n",
      "let m=vdb(3)\n",
      "\n",
      "*plot m xlog\n",
      "\n",
      "meas ac cutoff find frequency WHEN m=-3.0 CROSS=LAST\n",
      "\n",
      "write 2nd_order_rc_test.raw cutoff\n",
      ".endc\n",
      ".end\n"
     ]
    }
   ],
   "source": [
    "r=os.system(\"cat 2nd_order_rc_test.spice\")"
   ]
  },
  {
   "cell_type": "markdown",
   "id": "af06862d",
   "metadata": {},
   "source": [
    "# Test the get_values function"
   ]
  },
  {
   "cell_type": "code",
   "execution_count": 64,
   "id": "b7f1623c",
   "metadata": {},
   "outputs": [
    {
     "data": {
      "text/plain": [
       "[array([116.9059,   0.    ,   0.    ,   0.    ,   0.    ,   0.    ,\n",
       "          0.    ,   0.    ,   0.    ,   0.    ,   0.    ,   0.    ,\n",
       "          0.    ,   0.    ,   0.    ,   0.    ,   0.    ,   0.    ,\n",
       "          0.    ,   0.    ,   0.    ,   0.    ,   0.    ,   0.    ,\n",
       "          0.    ,   0.    ,   0.    ,   0.    ,   0.    ,   0.    ,\n",
       "          0.    ,   0.    ,   0.    ,   0.    ,   0.    ,   0.    ,\n",
       "          0.    ,   0.    ,   0.    ,   0.    ,   0.    ,   0.    ,\n",
       "          0.    ,   0.    ,   0.    ,   0.    ,   0.    ,   0.    ,\n",
       "          0.    ,   0.    ,   0.    ,   0.    ,   0.    ,   0.    ,\n",
       "          0.    ,   0.    ,   0.    ,   0.    ,   0.    ,   0.    ,\n",
       "          0.    ,   0.    ,   0.    ,   0.    ,   0.    ,   0.    ,\n",
       "          0.    ,   0.    ,   0.    ,   0.    ,   0.    ,   0.    ,\n",
       "          0.    ,   0.    ,   0.    ,   0.    ,   0.    ,   0.    ,\n",
       "          0.    ,   0.    ,   0.    ,   0.    ,   0.    ,   0.    ,\n",
       "          0.    ,   0.    ,   0.    ,   0.    ,   0.    ,   0.    ,\n",
       "          0.    ])]"
      ]
     },
     "execution_count": 64,
     "metadata": {},
     "output_type": "execute_result"
    }
   ],
   "source": [
    "get_values(\"2nd_order_rc_test.raw\",['cutoff'])\n"
   ]
  },
  {
   "cell_type": "code",
   "execution_count": 66,
   "id": "c64f28bb",
   "metadata": {},
   "outputs": [
    {
     "name": "stdout",
     "output_type": "stream",
     "text": [
      "116.9059\n"
     ]
    }
   ],
   "source": [
    "import os\n",
    "def run_spice_again(x,filename):\n",
    "    param_names_and_values = [\n",
    "    \n",
    "        [\"R_1\",   x[0]], \n",
    "        [\"C_1\",   x[1]],\n",
    "        [\"R_2\",   x[2]], \n",
    "        [\"C_2\",   x[3]],\n",
    "        [\"START\", 1], \n",
    "        [\"STOP\",  1e9]\n",
    "        ]\n",
    "    add_param_lines(filename, param_names_and_values)\n",
    "    \n",
    "    os.system(\"ngspice -b 2nd_order_rc_test.spice -o .temp > .temp\")\n",
    "    os.system(\"rm -f .temp\")\n",
    "    filename=\"2nd_order_rc_test.raw\"\n",
    "    data = spyci.load_raw(filename)  # see 'Data structure' section below\n",
    "    cutoff_value=get_values(filename,['cutoff'])[0][0]\n",
    "#     print(cutoff_value)\n",
    "    return cutoff_value\n",
    "\n",
    "print(run_spice_again([1.2e3,1e-6,1.8e3,1e-7],\"2nd_order_rc_test.spice\"))"
   ]
  },
  {
   "cell_type": "code",
   "execution_count": 67,
   "id": "e1684b5e",
   "metadata": {},
   "outputs": [],
   "source": [
    "import numpy as np\n",
    "from pymoo.problems.functional import FunctionalProblem\n",
    "from pymoo.algorithms.moo.nsga2 import NSGA2\n",
    "from pymoo.operators.crossover.sbx import SBX\n",
    "from pymoo.operators.mutation.pm import PM\n",
    "from pymoo.operators.sampling.rnd import FloatRandomSampling\n",
    "from pymoo.termination import get_termination\n",
    "from pymoo.optimize import minimize\n",
    "\n",
    "def find_values(n_var,x,range_l,range_u,Target_F_cut,objs,max_generations,verbose=True):\n",
    "\n",
    "  # now put everything together to a problem object\n",
    "  problem = FunctionalProblem(n_var,\n",
    "                              objs,\n",
    "                              # constr_ieq=constr_ieq,\n",
    "                              xl=np.array(range_l),\n",
    "                              xu=np.array(range_u)\n",
    "                              )\n",
    "  # F= problem.evaluate([x])\n",
    "  # print(f\"F: {F}\\n\")\n",
    "  ############\n",
    "  algorithm = NSGA2(\n",
    "    pop_size=45,\n",
    "    n_offsprings=10,\n",
    "    sampling=FloatRandomSampling(),\n",
    "    crossover=SBX(prob=0.9, eta=15),\n",
    "    mutation=PM(eta=15),\n",
    "    eliminate_duplicates=True\n",
    "  )\n",
    "  ##############\n",
    "  termination = get_termination(\"n_gen\", max_generations)\n",
    "  ##############\n",
    "  res = minimize(problem,\n",
    "               algorithm,\n",
    "               termination,\n",
    "               seed=9,\n",
    "               save_history=True,\n",
    "               verbose=verbose)\n",
    "  \n",
    "  return res\n"
   ]
  },
  {
   "cell_type": "code",
   "execution_count": 68,
   "id": "d210661a",
   "metadata": {},
   "outputs": [
    {
     "name": "stdout",
     "output_type": "stream",
     "text": [
      "==========================================================\n",
      "n_gen  |  n_eval  | n_nds  |      eps      |   indicator  \n",
      "==========================================================\n",
      "     1 |       45 |      1 |             - |             -\n",
      "     2 |       55 |      1 |  8.6797758000 |         ideal\n",
      "     3 |       65 |      1 |  0.000000E+00 |             f\n",
      "     4 |       75 |      1 |  0.000000E+00 |             f\n",
      "     5 |       85 |      1 |  0.000000E+00 |             f\n",
      "     6 |       95 |      1 |  0.000000E+00 |             f\n",
      "     7 |      105 |      1 |  1.265934E+01 |         ideal\n",
      "     8 |      115 |      1 |  0.000000E+00 |             f\n",
      "     9 |      125 |      1 |  0.000000E+00 |             f\n",
      "    10 |      135 |      1 |  0.000000E+00 |             f\n",
      "    11 |      145 |      1 |  0.000000E+00 |             f\n",
      "    12 |      155 |      1 |  0.000000E+00 |             f\n",
      "    13 |      165 |      1 |  0.000000E+00 |             f\n",
      "    14 |      175 |      1 |  0.000000E+00 |             f\n",
      "    15 |      185 |      1 |  0.000000E+00 |             f\n",
      "    16 |      195 |      1 |  0.000000E+00 |             f\n",
      "    17 |      205 |      1 |  0.000000E+00 |             f\n",
      "    18 |      215 |      1 |  0.000000E+00 |             f\n",
      "    19 |      225 |      1 |  0.000000E+00 |             f\n",
      "    20 |      235 |      1 |  0.000000E+00 |             f\n",
      "    21 |      245 |      1 |  0.000000E+00 |             f\n",
      "    22 |      255 |      1 |  0.000000E+00 |             f\n",
      "    23 |      265 |      1 |  0.0477144000 |         ideal\n",
      "    24 |      275 |      1 |  0.000000E+00 |             f\n",
      "    25 |      285 |      1 |  0.000000E+00 |             f\n",
      "    26 |      295 |      1 |  0.0041396100 |         ideal\n",
      "    27 |      305 |      1 |  0.000000E+00 |             f\n",
      "    28 |      315 |      1 |  0.000000E+00 |             f\n",
      "    29 |      325 |      1 |  0.000000E+00 |             f\n",
      "    30 |      335 |      1 |  0.000000E+00 |             f\n",
      "    31 |      345 |      1 |  0.000000E+00 |             f\n",
      "    32 |      355 |      1 |  0.000000E+00 |             f\n",
      "    33 |      365 |      1 |  0.000000E+00 |             f\n",
      "    34 |      375 |      1 |  0.000000E+00 |             f\n",
      "    35 |      385 |      1 |  0.000000E+00 |             f\n",
      "    36 |      395 |      1 |  0.000000E+00 |             f\n",
      "    37 |      405 |      1 |  0.0007031100 |             f\n",
      "    38 |      415 |      1 |  0.0007031100 |             f\n",
      "    39 |      425 |      1 |  0.0007031100 |             f\n",
      "    40 |      435 |      1 |  0.0007031100 |             f\n"
     ]
    },
    {
     "data": {
      "text/plain": [
       "array([1.73806424e+03, 5.98730551e-09, 3.70981699e+03, 7.81481054e-08])"
      ]
     },
     "execution_count": 68,
     "metadata": {},
     "output_type": "execute_result"
    }
   ],
   "source": [
    "#########################\n",
    "range_l=[1000, 1e-9, 1000, 1e-9]\n",
    "range_u=[4000, 100e-9,5000, 100e-9]\n",
    "target_f=370\n",
    "current_x=[1800,88.2097e-9,1800,88.2097e-9]## correct for 1000Hz\n",
    "max_generations=40\n",
    "verbose=True\n",
    "\n",
    "run_spice_again(current_x,\"2nd_order_rc_test.spice\")\n",
    "#########################COST_FUNCTION##########################################\n",
    "cost_function = [\n",
    "    lambda x: (run_spice_again(x,\"2nd_order_rc_test.spice\")-target_f)**2 ########  x[0]=R,x[1]=C\n",
    "]\n",
    "################################################################################\n",
    "\n",
    "r=find_values(4,current_x,range_l,range_u, target_f,cost_function,max_generations,verbose=verbose)\n",
    "\n",
    "result=r.X.T\n",
    "result\n"
   ]
  },
  {
   "cell_type": "code",
   "execution_count": 74,
   "id": "17c82054",
   "metadata": {},
   "outputs": [
    {
     "name": "stdout",
     "output_type": "stream",
     "text": [
      "========================================\n",
      "Target cut off frequency is:  370.00 Hz\n",
      "Resistance R1(Optimized value ) is:   1.738 Kilo Ohms\n",
      "Capacitance C1(Optimized value ) is:   5.987 nanofarads\n",
      "Resistance R2(Optimized value ) is:   3.710 Kilo Ohms\n",
      "Capacitance C2(Optimized value ) is:  78.148 nanofarads\n",
      "========================================\n"
     ]
    }
   ],
   "source": [
    "R_opt1=result[0]  #1kOhm\n",
    "C_opt1=result[1]  # 1µF\n",
    "R_opt2=result[2]  #1kOhm\n",
    "C_opt2=result[3]  # 1µF\n",
    "# F_cut = 1./(2.*np.pi*R_opt*C_opt)\n",
    "print(\"========================================\")\n",
    "print(\"Target cut off frequency is: {:7.2f} Hz\".format(target_f))\n",
    "# print(\"Obtained cut off frequency(Optimized value ) is: {:7.2f} Hz\".format(F_cut))\n",
    "# print(\"Percentage Error is: {:7.2f} %\".format(((F_cut-target_f)*100/target_f)))\n",
    "print(\"Resistance R1(Optimized value ) is: {:7.3f} Kilo Ohms\".format(R_opt1/1e3))\n",
    "print(\"Capacitance C1(Optimized value ) is: {:7.3f} nanofarads\".format(C_opt1*1e9))\n",
    "print(\"Resistance R2(Optimized value ) is: {:7.3f} Kilo Ohms\".format(R_opt2/1e3))\n",
    "print(\"Capacitance C2(Optimized value ) is: {:7.3f} nanofarads\".format(C_opt2*1e9))\n",
    "print(\"========================================\")"
   ]
  }
 ],
 "metadata": {
  "kernelspec": {
   "display_name": "Python 3 (ipykernel)",
   "language": "python",
   "name": "python3"
  },
  "language_info": {
   "codemirror_mode": {
    "name": "ipython",
    "version": 3
   },
   "file_extension": ".py",
   "mimetype": "text/x-python",
   "name": "python",
   "nbconvert_exporter": "python",
   "pygments_lexer": "ipython3",
   "version": "3.10.6"
  }
 },
 "nbformat": 4,
 "nbformat_minor": 5
}
