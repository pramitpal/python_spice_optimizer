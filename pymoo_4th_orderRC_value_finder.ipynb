{
 "cells": [
  {
   "cell_type": "code",
   "execution_count": null,
   "id": "3d11baa5",
   "metadata": {},
   "outputs": [
    {
     "name": "stdout",
     "output_type": "stream",
     "text": [
      "Defaulting to user installation because normal site-packages is not writeable\n",
      "Requirement already satisfied: pymoo in /headless/.local/lib/python3.10/site-packages (0.6.0.1)\n",
      "Requirement already satisfied: Deprecated in /usr/lib/python3/dist-packages (from pymoo) (1.2.13)\n",
      "Requirement already satisfied: autograd>=1.4 in /headless/.local/lib/python3.10/site-packages (from pymoo) (1.6.2)\n",
      "Requirement already satisfied: dill in /headless/.local/lib/python3.10/site-packages (from pymoo) (0.3.7)\n",
      "Requirement already satisfied: matplotlib>=3 in /usr/local/lib/python3.10/dist-packages (from pymoo) (3.7.1)\n",
      "Requirement already satisfied: cma==3.2.2 in /headless/.local/lib/python3.10/site-packages (from pymoo) (3.2.2)\n",
      "Requirement already satisfied: numpy>=1.15 in /usr/local/lib/python3.10/dist-packages (from pymoo) (1.24.3)\n",
      "Requirement already satisfied: alive-progress in /headless/.local/lib/python3.10/site-packages (from pymoo) (3.1.4)\n",
      "Requirement already satisfied: scipy>=1.1 in /usr/local/lib/python3.10/dist-packages (from pymoo) (1.10.1)\n",
      "Requirement already satisfied: future>=0.15.2 in /headless/.local/lib/python3.10/site-packages (from autograd>=1.4->pymoo) (0.18.3)\n",
      "Requirement already satisfied: packaging>=20.0 in /usr/local/lib/python3.10/dist-packages (from matplotlib>=3->pymoo) (23.1)\n",
      "Requirement already satisfied: kiwisolver>=1.0.1 in /usr/local/lib/python3.10/dist-packages (from matplotlib>=3->pymoo) (1.4.4)\n",
      "Requirement already satisfied: python-dateutil>=2.7 in /usr/local/lib/python3.10/dist-packages (from matplotlib>=3->pymoo) (2.8.2)\n",
      "Requirement already satisfied: fonttools>=4.22.0 in /usr/local/lib/python3.10/dist-packages (from matplotlib>=3->pymoo) (4.39.4)\n",
      "Requirement already satisfied: cycler>=0.10 in /usr/local/lib/python3.10/dist-packages (from matplotlib>=3->pymoo) (0.11.0)\n",
      "Requirement already satisfied: contourpy>=1.0.1 in /usr/local/lib/python3.10/dist-packages (from matplotlib>=3->pymoo) (1.0.7)\n",
      "Requirement already satisfied: pillow>=6.2.0 in /usr/local/lib/python3.10/dist-packages (from matplotlib>=3->pymoo) (9.5.0)\n",
      "Requirement already satisfied: pyparsing>=2.3.1 in /usr/lib/python3/dist-packages (from matplotlib>=3->pymoo) (2.4.7)\n",
      "Requirement already satisfied: about-time==4.2.1 in /headless/.local/lib/python3.10/site-packages (from alive-progress->pymoo) (4.2.1)\n",
      "Requirement already satisfied: grapheme==0.6.0 in /headless/.local/lib/python3.10/site-packages (from alive-progress->pymoo) (0.6.0)\n",
      "Requirement already satisfied: six>=1.5 in /usr/lib/python3/dist-packages (from python-dateutil>=2.7->matplotlib>=3->pymoo) (1.16.0)\n"
     ]
    },
    {
     "data": {
      "text/html": [
       "<script>Jupyter.notebook.kernel.restart()</script>"
      ]
     },
     "metadata": {},
     "output_type": "display_data"
    }
   ],
   "source": [
    "import sys\n",
    "!{sys.executable} -m pip install pymoo  # For ipopt solver\n",
    "\n",
    "# Install a pip package in the current Jupyter kernel\n",
    "\n",
    "from IPython.display import display_html\n",
    "def restartkernel() :\n",
    "    display_html(\"<script>Jupyter.notebook.kernel.restart()</script>\",raw=True)\n",
    "\n",
    "restartkernel()"
   ]
  },
  {
   "cell_type": "code",
   "execution_count": 1,
   "id": "4a60e5be",
   "metadata": {},
   "outputs": [],
   "source": [
    "import os\n",
    "from spyci import spyci\n",
    "import matplotlib.pyplot as plt\n",
    "%matplotlib inline"
   ]
  },
  {
   "cell_type": "markdown",
   "id": "fdde92da",
   "metadata": {},
   "source": [
    "# Write a file 4th_order_rc_test.spice"
   ]
  },
  {
   "cell_type": "code",
   "execution_count": 15,
   "id": "52ae0dad",
   "metadata": {},
   "outputs": [
    {
     "name": "stdout",
     "output_type": "stream",
     "text": [
      "Overwriting 4th_order_rc_test.spice\n"
     ]
    }
   ],
   "source": [
    "%%writefile 4th_order_rc_test.spice\n",
    "***** 4th Order RC Circuit Frequency Response *****\n",
    ".PARAM R_1 = 2096.530184823837\n",
    ".PARAM C_1 = 5.710242851887112e-08\n",
    ".PARAM R_2 = 2096.530184823837\n",
    ".PARAM C_2 = 5.710242851887112e-08\n",
    ".PARAM R_3 = 2096.530184823837\n",
    ".PARAM C_3 = 5.710242851887112e-08\n",
    ".PARAM R_4 = 2096.530184823837\n",
    ".PARAM C_4 = 5.710242851887112e-08\n",
    ".PARAM START = 1\n",
    ".PARAM STOP = 1000000000.0\n",
    "**--**--**--**--**--**--**--**--**--**\n",
    "r1 1 2 {R_1}\n",
    "c1 2 0 {C_1}\n",
    "r2 2 3 {R_2}\n",
    "c2 3 0 {C_2}\n",
    "r3 3 4 {R_3}\n",
    "c3 4 0 {C_3}\n",
    "r4 4 5 {R_4}\n",
    "c4 5 0 {C_4}\n",
    "\n",
    "********Specifying an AC source with zero dc\n",
    "vin 1 0 dc 0 ac 1\n",
    "********AC analysis for 1 Hz to 1MHz, 10 points per decade\n",
    ".ac dec 10 {START} {STOP}\n",
    "\n",
    "\n",
    ".control\n",
    "set filetype=ascii\n",
    "run\n",
    "\n",
    "let m=vdb(5)\n",
    "\n",
    "*plot m xlog\n",
    "\n",
    "meas ac cutoff find frequency WHEN m=-3.0 CROSS=LAST\n",
    "\n",
    "write 4th_order_rc_test.raw cutoff vdb(2) vdb(3) vdb(4) vdb(5)\n",
    ".endc\n",
    ".end"
   ]
  },
  {
   "cell_type": "code",
   "execution_count": 22,
   "id": "7dd671db",
   "metadata": {},
   "outputs": [
    {
     "name": "stdout",
     "output_type": "stream",
     "text": [
      "Variables:\n",
      "\n",
      "  idx  name    type\n",
      "-----  ------  -------------\n",
      "    1  cutoff  notype dims=1\n",
      "    2  vdb(2)  decibel\n",
      "    3  vdb(3)  decibel\n",
      "    4  vdb(4)  decibel\n",
      "    5  vdb(5)  decibel\n"
     ]
    }
   ],
   "source": [
    "filename=\"4th_order_rc_test.raw\"\n",
    "data = spyci.load_raw(filename)  # see 'Data structure' section below\n",
    "spyci.list_vars(filename)"
   ]
  },
  {
   "cell_type": "code",
   "execution_count": 5,
   "id": "5540fa8e",
   "metadata": {},
   "outputs": [],
   "source": [
    "def add_param_lines(file_path, param_names_and_values):\n",
    "    \n",
    "  if not os.path.exists(file_path):\n",
    "    raise FileNotFoundError(\"File does not exist: {}\".format(file_path))\n",
    "\n",
    "  with open(file_path, \"r\") as f:\n",
    "    lines = f.readlines()\n",
    "\n",
    "  first_line = lines[0]\n",
    "\n",
    "  param_lines = []\n",
    "  for param_name, param_value in param_names_and_values:\n",
    "    param_lines.append(\".PARAM {} = {}\\n\".format(param_name, param_value))\n",
    "\n",
    "  # Find the index of the line with the text `\"**--**--**--**--**--**--**--**--**--**\\n`\n",
    "  recognizer=\"**--**--**--**--**--**--**--**--**--**\\n\"\n",
    "  try:\n",
    "      index = lines.index(recognizer)\n",
    "      new_lines = [first_line] + param_lines + [recognizer] + lines[index + 1:]\n",
    "  except ValueError:\n",
    "      new_lines = [first_line] + param_lines + [recognizer] + lines[1:]\n",
    "\n",
    "  with open(file_path, \"w\") as f:\n",
    "    f.writelines(new_lines)\n"
   ]
  },
  {
   "cell_type": "code",
   "execution_count": 6,
   "id": "f102a9a3",
   "metadata": {},
   "outputs": [],
   "source": [
    "def get_values(filename, pvars=None):\n",
    "    \"\"\"\n",
    "    Load the values from a SPICE raw file and return a list of arrays.\n",
    "\n",
    "    Args:\n",
    "        filename (str): The path to the SPICE raw file.\n",
    "        pvars (list): A list of string variables to load. If None, all variables are loaded.\n",
    "\n",
    "    Returns:\n",
    "        list: A list of arrays, one for each variable in pvars.\n",
    "    \"\"\"\n",
    "\n",
    "    d = spyci.load_raw(filename)\n",
    "    xx = []\n",
    "    for var in pvars:\n",
    "        xx.append(d['values'][var].real)\n",
    "    return xx"
   ]
  },
  {
   "cell_type": "markdown",
   "id": "61ca59da",
   "metadata": {},
   "source": [
    "# Test the add_param_function"
   ]
  },
  {
   "cell_type": "code",
   "execution_count": 7,
   "id": "3e4eea8e",
   "metadata": {},
   "outputs": [],
   "source": [
    "filename = \"4th_order_rc_test.spice\"\n",
    "param_names_and_values = [\n",
    "    \n",
    "    [\"R_1\",   1e3], \n",
    "    [\"C_1\",   1e-6],\n",
    "    [\"R_2\",   1e3], \n",
    "    [\"C_2\",   1e-6],\n",
    "    [\"R_3\",   1e3], \n",
    "    [\"C_3\",   1e-6],\n",
    "    [\"R_4\",   1e3], \n",
    "    [\"C_4\",   1e-6],\n",
    "    [\"START\", 1], \n",
    "    [\"STOP\",  1e8]\n",
    "    \n",
    "    ]\n",
    "add_param_lines(filename, param_names_and_values)"
   ]
  },
  {
   "cell_type": "markdown",
   "id": "5ad35539",
   "metadata": {},
   "source": [
    "# View the contents"
   ]
  },
  {
   "cell_type": "code",
   "execution_count": 17,
   "id": "a51a39c3",
   "metadata": {},
   "outputs": [
    {
     "name": "stdout",
     "output_type": "stream",
     "text": [
      "***** 4th Order RC Circuit Frequency Response *****\n",
      ".PARAM R_1 = 2096.530184823837\n",
      ".PARAM C_1 = 5.710242851887112e-08\n",
      ".PARAM R_2 = 2096.530184823837\n",
      ".PARAM C_2 = 5.710242851887112e-08\n",
      ".PARAM R_3 = 2096.530184823837\n",
      ".PARAM C_3 = 5.710242851887112e-08\n",
      ".PARAM R_4 = 2096.530184823837\n",
      ".PARAM C_4 = 5.710242851887112e-08\n",
      ".PARAM START = 1\n",
      ".PARAM STOP = 1000000000.0\n",
      "**--**--**--**--**--**--**--**--**--**\n",
      "r1 1 2 {R_1}\n",
      "c1 2 0 {C_1}\n",
      "r2 2 3 {R_2}\n",
      "c2 3 0 {C_2}\n",
      "r3 3 4 {R_3}\n",
      "c3 4 0 {C_3}\n",
      "r4 4 5 {R_4}\n",
      "c4 5 0 {C_4}\n",
      "\n",
      "********Specifying an AC source with zero dc\n",
      "vin 1 0 dc 0 ac 1\n",
      "********AC analysis for 1 Hz to 1MHz, 10 points per decade\n",
      ".ac dec 10 {START} {STOP}\n",
      "\n",
      "\n",
      ".control\n",
      "set filetype=ascii\n",
      "run\n",
      "\n",
      "let m=vdb(5)\n",
      "\n",
      "*plot m xlog\n",
      "\n",
      "meas ac cutoff find frequency WHEN m=-3.0 CROSS=LAST\n",
      "\n",
      "write 4th_order_rc_test.raw cutoff vdb(2) vdb(3) vdb(4) vdb(5)\n",
      ".endc\n",
      ".end\n"
     ]
    }
   ],
   "source": [
    "r=os.system(\"cat 4th_order_rc_test.spice\")"
   ]
  },
  {
   "cell_type": "markdown",
   "id": "af06862d",
   "metadata": {},
   "source": [
    "# Test the get_values function"
   ]
  },
  {
   "cell_type": "code",
   "execution_count": 18,
   "id": "b7f1623c",
   "metadata": {},
   "outputs": [
    {
     "data": {
      "text/plain": [
       "[array([399.9999,   0.    ,   0.    ,   0.    ,   0.    ,   0.    ,\n",
       "          0.    ,   0.    ,   0.    ,   0.    ,   0.    ,   0.    ,\n",
       "          0.    ,   0.    ,   0.    ,   0.    ,   0.    ,   0.    ,\n",
       "          0.    ,   0.    ,   0.    ,   0.    ,   0.    ,   0.    ,\n",
       "          0.    ,   0.    ,   0.    ,   0.    ,   0.    ,   0.    ,\n",
       "          0.    ,   0.    ,   0.    ,   0.    ,   0.    ,   0.    ,\n",
       "          0.    ,   0.    ,   0.    ,   0.    ,   0.    ,   0.    ,\n",
       "          0.    ,   0.    ,   0.    ,   0.    ,   0.    ,   0.    ,\n",
       "          0.    ,   0.    ,   0.    ,   0.    ,   0.    ,   0.    ,\n",
       "          0.    ,   0.    ,   0.    ,   0.    ,   0.    ,   0.    ,\n",
       "          0.    ,   0.    ,   0.    ,   0.    ,   0.    ,   0.    ,\n",
       "          0.    ,   0.    ,   0.    ,   0.    ,   0.    ,   0.    ,\n",
       "          0.    ,   0.    ,   0.    ,   0.    ,   0.    ,   0.    ,\n",
       "          0.    ,   0.    ,   0.    ,   0.    ,   0.    ,   0.    ,\n",
       "          0.    ,   0.    ,   0.    ,   0.    ,   0.    ,   0.    ,\n",
       "          0.    ])]"
      ]
     },
     "execution_count": 18,
     "metadata": {},
     "output_type": "execute_result"
    }
   ],
   "source": [
    "get_values(\"4th_order_rc_test.raw\",['cutoff'])\n"
   ]
  },
  {
   "cell_type": "code",
   "execution_count": 19,
   "id": "c64f28bb",
   "metadata": {},
   "outputs": [
    {
     "name": "stdout",
     "output_type": "stream",
     "text": [
      "562.7918\n"
     ]
    }
   ],
   "source": [
    "import os\n",
    "def run_spice_again(x,filename):\n",
    "    param_names_and_values = [\n",
    "    \n",
    "        [\"R_1\",   x[0]], \n",
    "        [\"C_1\",   x[1]],\n",
    "        [\"R_2\",   x[2]], \n",
    "        [\"C_2\",   x[3]],\n",
    "        [\"R_3\",   x[4]], \n",
    "        [\"C_3\",   x[5]],\n",
    "        [\"R_4\",   x[6]], \n",
    "        [\"C_4\",   x[7]],\n",
    "        [\"START\", 1], \n",
    "        [\"STOP\",  1e9]\n",
    "        ]\n",
    "    add_param_lines(filename, param_names_and_values)\n",
    "    \n",
    "    os.system(\"ngspice -b 4th_order_rc_test.spice -o .temp > .temp\")\n",
    "    os.system(\"rm -f .temp\")\n",
    "    filename=\"4th_order_rc_test.raw\"\n",
    "    data = spyci.load_raw(filename)  # see 'Data structure' section below\n",
    "    cutoff_value=get_values(filename,['cutoff'])[0][0]\n",
    "#     print(cutoff_value)\n",
    "    return cutoff_value\n",
    "\n",
    "print(run_spice_again([1.2e3,1e-8,1e3,1e-7,1.5e3,1e-8,1.7e3,1e-8],\"4th_order_rc_test.spice\"))"
   ]
  },
  {
   "cell_type": "code",
   "execution_count": 12,
   "id": "e1684b5e",
   "metadata": {},
   "outputs": [],
   "source": [
    "import numpy as np\n",
    "from pymoo.problems.functional import FunctionalProblem\n",
    "from pymoo.algorithms.moo.nsga2 import NSGA2\n",
    "from pymoo.operators.crossover.sbx import SBX\n",
    "from pymoo.operators.mutation.pm import PM\n",
    "from pymoo.operators.sampling.rnd import FloatRandomSampling\n",
    "from pymoo.termination import get_termination\n",
    "from pymoo.optimize import minimize\n",
    "\n",
    "def find_values(n_var,x,range_l,range_u,Target_F_cut,objs,max_generations,verbose=True):\n",
    "\n",
    "  # now put everything together to a problem object\n",
    "  problem = FunctionalProblem(n_var,\n",
    "                              objs,\n",
    "                              # constr_ieq=constr_ieq,\n",
    "                              xl=np.array(range_l),\n",
    "                              xu=np.array(range_u)\n",
    "                              )\n",
    "  # F= problem.evaluate([x])\n",
    "  # print(f\"F: {F}\\n\")\n",
    "  ############\n",
    "  algorithm = NSGA2(\n",
    "    pop_size=45,\n",
    "    n_offsprings=10,\n",
    "    sampling=FloatRandomSampling(),\n",
    "    crossover=SBX(prob=0.9, eta=15),\n",
    "    mutation=PM(eta=15),\n",
    "    eliminate_duplicates=True\n",
    "  )\n",
    "  ##############\n",
    "  termination = get_termination(\"n_gen\", max_generations)\n",
    "  ##############\n",
    "  res = minimize(problem,\n",
    "               algorithm,\n",
    "               termination,\n",
    "               seed=9,\n",
    "               save_history=True,\n",
    "               verbose=verbose)\n",
    "  \n",
    "  return res\n"
   ]
  },
  {
   "cell_type": "code",
   "execution_count": 20,
   "id": "d210661a",
   "metadata": {},
   "outputs": [
    {
     "name": "stdout",
     "output_type": "stream",
     "text": [
      "==========================================================\n",
      "n_gen  |  n_eval  | n_nds  |      eps      |   indicator  \n",
      "==========================================================\n",
      "     1 |       45 |      1 |             - |             -\n",
      "     2 |       55 |      1 |  0.000000E+00 |             f\n",
      "     3 |       65 |      1 |  0.000000E+00 |             f\n",
      "     4 |       75 |      1 |  0.000000E+00 |             f\n",
      "     5 |       85 |      1 |  3.451585E+02 |         ideal\n",
      "     6 |       95 |      1 |  0.000000E+00 |             f\n",
      "     7 |      105 |      1 |  0.000000E+00 |             f\n",
      "     8 |      115 |      1 |  0.000000E+00 |             f\n",
      "     9 |      125 |      1 |  0.000000E+00 |             f\n",
      "    10 |      135 |      1 |  0.000000E+00 |             f\n",
      "    11 |      145 |      1 |  0.000000E+00 |             f\n",
      "    12 |      155 |      1 |  4.6768009500 |         ideal\n",
      "    13 |      165 |      1 |  1.6075036500 |         ideal\n",
      "    14 |      175 |      1 |  3.218740E+01 |         ideal\n",
      "    15 |      185 |      1 |  0.000000E+00 |             f\n",
      "    16 |      195 |      1 |  0.000000E+00 |             f\n",
      "    17 |      205 |      1 |  0.000000E+00 |             f\n",
      "    18 |      215 |      1 |  0.000000E+00 |             f\n",
      "    19 |      225 |      1 |  0.000000E+00 |             f\n",
      "    20 |      235 |      1 |  0.000000E+00 |             f\n",
      "    21 |      245 |      1 |  0.000000E+00 |             f\n",
      "    22 |      255 |      1 |  0.000000E+00 |             f\n",
      "    23 |      265 |      1 |  0.000000E+00 |             f\n",
      "    24 |      275 |      1 |  0.000000E+00 |             f\n",
      "    25 |      285 |      1 |  0.000000E+00 |             f\n",
      "    26 |      295 |      1 |  0.000000E+00 |             f\n",
      "    27 |      305 |      1 |  1.6043630100 |         ideal\n",
      "    28 |      315 |      1 |  1.0187904000 |         ideal\n",
      "    29 |      325 |      1 |  0.000000E+00 |             f\n",
      "    30 |      335 |      1 |  0.000000E+00 |             f\n",
      "    31 |      345 |      1 |  0.0913928400 |         ideal\n",
      "    32 |      355 |      1 |  0.000000E+00 |             f\n",
      "    33 |      365 |      1 |  0.000000E+00 |             f\n",
      "    34 |      375 |      1 |  0.000000E+00 |             f\n",
      "    35 |      385 |      1 |  0.000000E+00 |             f\n",
      "    36 |      395 |      1 |  0.000000E+00 |             f\n",
      "    37 |      405 |      1 |  0.000000E+00 |             f\n",
      "    38 |      415 |      1 |  0.000000E+00 |             f\n",
      "    39 |      425 |      1 |  0.000000E+00 |             f\n",
      "    40 |      435 |      1 |  0.000000E+00 |             f\n",
      "    41 |      445 |      1 |  0.000000E+00 |             f\n",
      "    42 |      455 |      1 |  0.000000E+00 |             f\n",
      "    43 |      465 |      1 |  0.000000E+00 |             f\n",
      "    44 |      475 |      1 |  0.000000E+00 |             f\n",
      "    45 |      485 |      1 |  0.000000E+00 |             f\n",
      "    46 |      495 |      1 |  0.0002724400 |             f\n",
      "    47 |      505 |      1 |  0.0002724400 |             f\n",
      "    48 |      515 |      1 |  0.0002724400 |             f\n",
      "    49 |      525 |      1 |  0.0002724400 |             f\n",
      "    50 |      535 |      1 |  0.0096039100 |         ideal\n",
      "    51 |      545 |      1 |  0.000000E+00 |             f\n",
      "    52 |      555 |      1 |  0.000000E+00 |             f\n",
      "    53 |      565 |      1 |  0.000000E+00 |             f\n",
      "    54 |      575 |      1 |  0.000000E+00 |             f\n",
      "    55 |      585 |      1 |  0.000000E+00 |             f\n",
      "    56 |      595 |      1 |  0.000000E+00 |             f\n",
      "    57 |      605 |      1 |  0.000000E+00 |             f\n",
      "    58 |      615 |      1 |  0.000000E+00 |             f\n",
      "    59 |      625 |      1 |  0.000000E+00 |             f\n",
      "    60 |      635 |      1 |  0.000000E+00 |             f\n",
      "    61 |      645 |      1 |  0.000000E+00 |             f\n",
      "    62 |      655 |      1 |  0.000000E+00 |             f\n",
      "    63 |      665 |      1 |  0.000000E+00 |             f\n",
      "    64 |      675 |      1 |  0.000000E+00 |             f\n",
      "    65 |      685 |      2 |  0.000000E+00 |             f\n",
      "    66 |      695 |      2 |  0.000000E+00 |             f\n",
      "    67 |      705 |      2 |  0.000000E+00 |             f\n",
      "    68 |      715 |      2 |  0.000000E+00 |             f\n",
      "    69 |      725 |      2 |  0.000000E+00 |             f\n",
      "    70 |      735 |      2 |  0.000000E+00 |             f\n",
      "    71 |      745 |      2 |  0.000000E+00 |             f\n",
      "    72 |      755 |      2 |  0.000000E+00 |             f\n",
      "    73 |      765 |      2 |  0.000000E+00 |             f\n",
      "    74 |      775 |      2 |  0.000000E+00 |             f\n",
      "    75 |      785 |      2 |  0.000000E+00 |             f\n",
      "    76 |      795 |      2 |  0.000000E+00 |             f\n",
      "    77 |      805 |      2 |  0.000000E+00 |             f\n",
      "    78 |      815 |      2 |  0.000000E+00 |             f\n",
      "    79 |      825 |      2 |  0.000000E+00 |             f\n",
      "    80 |      835 |      2 |  0.000000E+00 |             f\n",
      "    81 |      845 |      2 |  0.000000E+00 |             f\n",
      "    82 |      855 |      2 |  0.000000E+00 |             f\n",
      "    83 |      865 |      2 |  0.000000E+00 |             f\n",
      "    84 |      875 |      3 |  0.000000E+00 |             f\n",
      "    85 |      885 |      3 |  0.000000E+00 |             f\n",
      "    86 |      895 |      3 |  0.000000E+00 |             f\n",
      "    87 |      905 |      3 |  0.000000E+00 |             f\n",
      "    88 |      915 |      3 |  0.000000E+00 |             f\n",
      "    89 |      925 |      3 |  0.000000E+00 |             f\n",
      "    90 |      935 |      1 |  8.000000E-08 |             f\n",
      "    91 |      945 |      1 |  8.000000E-08 |             f\n",
      "    92 |      955 |      1 |  8.000000E-08 |             f\n",
      "    93 |      965 |      2 |  8.000000E-08 |             f\n",
      "    94 |      975 |      2 |  8.000000E-08 |             f\n",
      "    95 |      985 |      2 |  8.000000E-08 |             f\n",
      "    96 |      995 |      2 |  8.000000E-08 |             f\n",
      "    97 |     1005 |      2 |  8.000000E-08 |             f\n",
      "    98 |     1015 |      2 |  8.000000E-08 |             f\n",
      "    99 |     1025 |      2 |  8.000000E-08 |             f\n",
      "   100 |     1035 |      2 |  8.000000E-08 |             f\n"
     ]
    },
    {
     "data": {
      "text/plain": [
       "array([[1.62994854e+03, 1.62994854e+03],\n",
       "       [8.43480717e-08, 8.43485507e-08],\n",
       "       [2.78996252e+03, 2.78996252e+03],\n",
       "       [2.65805300e-08, 2.65805300e-08],\n",
       "       [3.58394202e+02, 3.58394202e+02],\n",
       "       [3.84519769e-08, 3.84519572e-08],\n",
       "       [2.27185819e+03, 2.27185949e+03],\n",
       "       [4.82751683e-09, 4.82742594e-09]])"
      ]
     },
     "execution_count": 20,
     "metadata": {},
     "output_type": "execute_result"
    }
   ],
   "source": [
    "#########################\n",
    "range_l=[200, 1e-9, 200, 1e-9,200, 1e-9, 200, 1e-9]\n",
    "range_u=[8000, 100e-9,5000, 100e-9,8000, 100e-9,5000, 100e-9]\n",
    "target_f=400\n",
    "current_x=[1800,88.2097e-9,1800,88.2097e-9,1800,88.2097e-9,1800,88.2097e-9]## correct for 1000Hz\n",
    "max_generations=100\n",
    "verbose=True\n",
    "\n",
    "# run_spice_again(current_x,\"4th_order_rc_test.spice\")\n",
    "#########################COST_FUNCTION##########################################\n",
    "cost_function = [\n",
    "    lambda x: (run_spice_again(x,\"4th_order_rc_test.spice\")-target_f)**2 ########  x[0]=R,x[1]=C\n",
    "]\n",
    "################################################################################\n",
    "\n",
    "r=find_values(8,current_x,range_l,range_u, target_f,cost_function,max_generations,verbose=verbose)\n",
    "\n",
    "result=r.X.T\n",
    "result\n"
   ]
  },
  {
   "cell_type": "code",
   "execution_count": 21,
   "id": "17c82054",
   "metadata": {
    "scrolled": true
   },
   "outputs": [
    {
     "name": "stdout",
     "output_type": "stream",
     "text": [
      "========================================\n",
      "Target cut off frequency is: 400.000 Hz\n",
      "Obtained cut off frequency(Optimized value ) is: 400.000 Hz\n",
      "Percentage Error is:  -0.000 %\n",
      "Resistance R1(Optimized value ) is:   1.630 Kilo Ohms\n",
      "Capacitance C1(Optimized value ) is:  84.348 nanofarads\n",
      "Resistance R2(Optimized value ) is:   2.790 Kilo Ohms\n",
      "Capacitance C2(Optimized value ) is:  26.581 nanofarads\n",
      "Resistance R3(Optimized value ) is:   0.358 Kilo Ohms\n",
      "Capacitance C3(Optimized value ) is:  38.452 nanofarads\n",
      "Resistance R4(Optimized value ) is:   2.272 Kilo Ohms\n",
      "Capacitance C4(Optimized value ) is:   4.828 nanofarads\n",
      "========================================\n"
     ]
    }
   ],
   "source": [
    "R_opt1=result[0][0]  #1kOhm\n",
    "C_opt1=result[1][0]  # 1µF\n",
    "R_opt2=result[2][0]  #1kOhm\n",
    "C_opt2=result[3][0]  # 1µF\n",
    "R_opt3=result[4][0]  #1kOhm\n",
    "C_opt3=result[5][0]  # 1µF\n",
    "R_opt4=result[6][0]  #1kOhm\n",
    "C_opt4=result[7][0]  # 1µF\n",
    "F_cut = run_spice_again([R_opt1,C_opt1,R_opt2,C_opt2,R_opt3,C_opt3,R_opt4,C_opt4],\"4th_order_rc_test.spice\")\n",
    "print(\"========================================\")\n",
    "print(\"Target cut off frequency is: {:7.3f} Hz\".format(target_f))\n",
    "print(\"Obtained cut off frequency(Optimized value ) is: {:7.3f} Hz\".format(F_cut))\n",
    "print(\"Percentage Error is: {:7.3f} %\".format(((F_cut-target_f)*100/target_f)))\n",
    "\n",
    "print(\"Resistance R1(Optimized value ) is: {:7.3f} Kilo Ohms\".format(R_opt1/1e3))\n",
    "print(\"Capacitance C1(Optimized value ) is: {:7.3f} nanofarads\".format(C_opt1*1e9))\n",
    "print(\"Resistance R2(Optimized value ) is: {:7.3f} Kilo Ohms\".format(R_opt2/1e3))\n",
    "print(\"Capacitance C2(Optimized value ) is: {:7.3f} nanofarads\".format(C_opt2*1e9))\n",
    "print(\"Resistance R3(Optimized value ) is: {:7.3f} Kilo Ohms\".format(R_opt3/1e3))\n",
    "print(\"Capacitance C3(Optimized value ) is: {:7.3f} nanofarads\".format(C_opt3*1e9))\n",
    "print(\"Resistance R4(Optimized value ) is: {:7.3f} Kilo Ohms\".format(R_opt4/1e3))\n",
    "print(\"Capacitance C4(Optimized value ) is: {:7.3f} nanofarads\".format(C_opt4*1e9))\n",
    "print(\"========================================\")"
   ]
  },
  {
   "cell_type": "code",
   "execution_count": 27,
   "id": "1c7933b0",
   "metadata": {},
   "outputs": [
    {
     "data": {
      "image/png": "[encoded data removed]",
      "text/plain": [
       "<Figure size 640x480 with 1 Axes>"
      ]
     },
     "metadata": {},
     "output_type": "display_data"
    }
   ],
   "source": [
    "values=get_values(\"4th_order_rc_test.raw\",['cutoff','vdb(2)','vdb(3)','vdb(4)','vdb(5)'])\n",
    "plt.plot(values[1])\n",
    "plt.plot(values[2])\n",
    "plt.plot(values[3])\n",
    "plt.plot(values[4])\n",
    "plt.show()"
   ]
  },
  {
   "cell_type": "code",
   "execution_count": null,
   "id": "d4b93360",
   "metadata": {},
   "outputs": [],
   "source": []
  }
 ],
 "metadata": {
  "kernelspec": {
   "display_name": "Python 3 (ipykernel)",
   "language": "python",
   "name": "python3"
  },
  "language_info": {
   "codemirror_mode": {
    "name": "ipython",
    "version": 3
   },
   "file_extension": ".py",
   "mimetype": "text/x-python",
   "name": "python",
   "nbconvert_exporter": "python",
   "pygments_lexer": "ipython3",
   "version": "3.10.6"
  }
 },
 "nbformat": 4,
 "nbformat_minor": 5
}
